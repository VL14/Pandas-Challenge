{
 "cells": [
  {
   "cell_type": "code",
   "execution_count": 41,
   "metadata": {},
   "outputs": [
    {
     "data": {
      "text/html": "<div>\n<style scoped>\n    .dataframe tbody tr th:only-of-type {\n        vertical-align: middle;\n    }\n\n    .dataframe tbody tr th {\n        vertical-align: top;\n    }\n\n    .dataframe thead th {\n        text-align: right;\n    }\n</style>\n<table border=\"1\" class=\"dataframe\">\n  <thead>\n    <tr style=\"text-align: right;\">\n      <th></th>\n      <th>School ID</th>\n      <th>school_name</th>\n      <th>type</th>\n      <th>size</th>\n      <th>budget</th>\n    </tr>\n  </thead>\n  <tbody>\n    <tr>\n      <th>0</th>\n      <td>0</td>\n      <td>Huang High School</td>\n      <td>District</td>\n      <td>2917</td>\n      <td>1910635</td>\n    </tr>\n    <tr>\n      <th>1</th>\n      <td>1</td>\n      <td>Figueroa High School</td>\n      <td>District</td>\n      <td>2949</td>\n      <td>1884411</td>\n    </tr>\n    <tr>\n      <th>2</th>\n      <td>2</td>\n      <td>Shelton High School</td>\n      <td>Charter</td>\n      <td>1761</td>\n      <td>1056600</td>\n    </tr>\n    <tr>\n      <th>3</th>\n      <td>3</td>\n      <td>Hernandez High School</td>\n      <td>District</td>\n      <td>4635</td>\n      <td>3022020</td>\n    </tr>\n    <tr>\n      <th>4</th>\n      <td>4</td>\n      <td>Griffin High School</td>\n      <td>Charter</td>\n      <td>1468</td>\n      <td>917500</td>\n    </tr>\n    <tr>\n      <th>5</th>\n      <td>5</td>\n      <td>Wilson High School</td>\n      <td>Charter</td>\n      <td>2283</td>\n      <td>1319574</td>\n    </tr>\n    <tr>\n      <th>6</th>\n      <td>6</td>\n      <td>Cabrera High School</td>\n      <td>Charter</td>\n      <td>1858</td>\n      <td>1081356</td>\n    </tr>\n    <tr>\n      <th>7</th>\n      <td>7</td>\n      <td>Bailey High School</td>\n      <td>District</td>\n      <td>4976</td>\n      <td>3124928</td>\n    </tr>\n    <tr>\n      <th>8</th>\n      <td>8</td>\n      <td>Holden High School</td>\n      <td>Charter</td>\n      <td>427</td>\n      <td>248087</td>\n    </tr>\n    <tr>\n      <th>9</th>\n      <td>9</td>\n      <td>Pena High School</td>\n      <td>Charter</td>\n      <td>962</td>\n      <td>585858</td>\n    </tr>\n    <tr>\n      <th>10</th>\n      <td>10</td>\n      <td>Wright High School</td>\n      <td>Charter</td>\n      <td>1800</td>\n      <td>1049400</td>\n    </tr>\n    <tr>\n      <th>11</th>\n      <td>11</td>\n      <td>Rodriguez High School</td>\n      <td>District</td>\n      <td>3999</td>\n      <td>2547363</td>\n    </tr>\n    <tr>\n      <th>12</th>\n      <td>12</td>\n      <td>Johnson High School</td>\n      <td>District</td>\n      <td>4761</td>\n      <td>3094650</td>\n    </tr>\n    <tr>\n      <th>13</th>\n      <td>13</td>\n      <td>Ford High School</td>\n      <td>District</td>\n      <td>2739</td>\n      <td>1763916</td>\n    </tr>\n    <tr>\n      <th>14</th>\n      <td>14</td>\n      <td>Thomas High School</td>\n      <td>Charter</td>\n      <td>1635</td>\n      <td>1043130</td>\n    </tr>\n  </tbody>\n</table>\n</div>",
      "text/plain": "    School ID            school_name      type  size   budget\n0           0      Huang High School  District  2917  1910635\n1           1   Figueroa High School  District  2949  1884411\n2           2    Shelton High School   Charter  1761  1056600\n3           3  Hernandez High School  District  4635  3022020\n4           4    Griffin High School   Charter  1468   917500\n5           5     Wilson High School   Charter  2283  1319574\n6           6    Cabrera High School   Charter  1858  1081356\n7           7     Bailey High School  District  4976  3124928\n8           8     Holden High School   Charter   427   248087\n9           9       Pena High School   Charter   962   585858\n10         10     Wright High School   Charter  1800  1049400\n11         11  Rodriguez High School  District  3999  2547363\n12         12    Johnson High School  District  4761  3094650\n13         13       Ford High School  District  2739  1763916\n14         14     Thomas High School   Charter  1635  1043130"
     },
     "execution_count": 41,
     "metadata": {},
     "output_type": "execute_result"
    }
   ],
   "source": [
    "# Dependencies and Setup\n",
    "import pandas as pd\n",
    "import numpy as np\n",
    "\n",
    "# File to Load (Remember to Change These)\n",
    "school_data_to_load = \"schools_complete.csv\"\n",
    "student_data_to_load = \"students_complete.csv\"\n",
    "\n",
    "# Read School and Student Data File and store into Pandas Data Frames\n",
    "school_data = pd.read_csv(school_data_to_load)\n",
    "student_data = pd.read_csv(student_data_to_load)\n",
    "school_data"
   ]
  },
  {
   "cell_type": "code",
   "execution_count": 42,
   "metadata": {},
   "outputs": [
    {
     "data": {
      "text/html": "<div>\n<style scoped>\n    .dataframe tbody tr th:only-of-type {\n        vertical-align: middle;\n    }\n\n    .dataframe tbody tr th {\n        vertical-align: top;\n    }\n\n    .dataframe thead th {\n        text-align: right;\n    }\n</style>\n<table border=\"1\" class=\"dataframe\">\n  <thead>\n    <tr style=\"text-align: right;\">\n      <th></th>\n      <th>Student ID</th>\n      <th>student_name</th>\n      <th>gender</th>\n      <th>grade</th>\n      <th>school_name</th>\n      <th>reading_score</th>\n      <th>math_score</th>\n      <th>School ID</th>\n      <th>type</th>\n      <th>size</th>\n      <th>budget</th>\n    </tr>\n  </thead>\n  <tbody>\n    <tr>\n      <th>0</th>\n      <td>0</td>\n      <td>Paul Bradley</td>\n      <td>M</td>\n      <td>9th</td>\n      <td>Huang High School</td>\n      <td>66</td>\n      <td>79</td>\n      <td>0</td>\n      <td>District</td>\n      <td>2917</td>\n      <td>1910635</td>\n    </tr>\n    <tr>\n      <th>1</th>\n      <td>1</td>\n      <td>Victor Smith</td>\n      <td>M</td>\n      <td>12th</td>\n      <td>Huang High School</td>\n      <td>94</td>\n      <td>61</td>\n      <td>0</td>\n      <td>District</td>\n      <td>2917</td>\n      <td>1910635</td>\n    </tr>\n    <tr>\n      <th>2</th>\n      <td>2</td>\n      <td>Kevin Rodriguez</td>\n      <td>M</td>\n      <td>12th</td>\n      <td>Huang High School</td>\n      <td>90</td>\n      <td>60</td>\n      <td>0</td>\n      <td>District</td>\n      <td>2917</td>\n      <td>1910635</td>\n    </tr>\n    <tr>\n      <th>3</th>\n      <td>3</td>\n      <td>Dr. Richard Scott</td>\n      <td>M</td>\n      <td>12th</td>\n      <td>Huang High School</td>\n      <td>67</td>\n      <td>58</td>\n      <td>0</td>\n      <td>District</td>\n      <td>2917</td>\n      <td>1910635</td>\n    </tr>\n    <tr>\n      <th>4</th>\n      <td>4</td>\n      <td>Bonnie Ray</td>\n      <td>F</td>\n      <td>9th</td>\n      <td>Huang High School</td>\n      <td>97</td>\n      <td>84</td>\n      <td>0</td>\n      <td>District</td>\n      <td>2917</td>\n      <td>1910635</td>\n    </tr>\n  </tbody>\n</table>\n</div>",
      "text/plain": "   Student ID       student_name gender grade        school_name  \\\n0           0       Paul Bradley      M   9th  Huang High School   \n1           1       Victor Smith      M  12th  Huang High School   \n2           2    Kevin Rodriguez      M  12th  Huang High School   \n3           3  Dr. Richard Scott      M  12th  Huang High School   \n4           4         Bonnie Ray      F   9th  Huang High School   \n\n   reading_score  math_score  School ID      type  size   budget  \n0             66          79          0  District  2917  1910635  \n1             94          61          0  District  2917  1910635  \n2             90          60          0  District  2917  1910635  \n3             67          58          0  District  2917  1910635  \n4             97          84          0  District  2917  1910635  "
     },
     "execution_count": 42,
     "metadata": {},
     "output_type": "execute_result"
    }
   ],
   "source": [
    "# Combine the data into a single dataset\n",
    "school_data_complete = pd.merge(student_data, school_data, how=\"left\", on=[\"school_name\", \"school_name\"])\n",
    "school_data_complete.head()"
   ]
  },
  {
   "cell_type": "code",
   "execution_count": 43,
   "metadata": {},
   "outputs": [],
   "source": [
    "#Create list of schools and calculate number of schools\n",
    "school_series = school_data_complete[\"school_name\"].unique()\n",
    "num_schools = round(len(school_series),0)"
   ]
  },
  {
   "cell_type": "code",
   "execution_count": 44,
   "metadata": {},
   "outputs": [
    {
     "data": {
      "text/plain": "39170"
     },
     "execution_count": 44,
     "metadata": {},
     "output_type": "execute_result"
    }
   ],
   "source": [
    "#Calculate total number of students\n",
    "num_students = round(len(school_data_complete[\"student_name\"]),0)\n",
    "num_students"
   ]
  },
  {
   "cell_type": "code",
   "execution_count": 45,
   "metadata": {},
   "outputs": [],
   "source": [
    "#Calculate the total budget for district\n",
    "budget_df = school_data_complete[\"budget\"].unique()\n",
    "total_budget = budget_df.sum()"
   ]
  },
  {
   "cell_type": "code",
   "execution_count": 46,
   "metadata": {},
   "outputs": [],
   "source": [
    "#Calculate the average math and reading scores\n",
    "math_av = round(school_data_complete[\"math_score\"].mean(),2)\n",
    "reading_av = round(school_data_complete[\"reading_score\"].mean(),2)"
   ]
  },
  {
   "cell_type": "code",
   "execution_count": 47,
   "metadata": {},
   "outputs": [],
   "source": [
    "#Calculate the overall average score\n",
    "overall_av = round((math_av+reading_av)/2,2)"
   ]
  },
  {
   "cell_type": "code",
   "execution_count": 48,
   "metadata": {},
   "outputs": [],
   "source": [
    "#Calculate % students with passing math score (70+)\n",
    "mathpass_df = school_data_complete.loc[school_data_complete[\"math_score\"]>=70]\n",
    "mathpass_count = mathpass_df[\"math_score\"].count()\n",
    "mathpass_percent = round((mathpass_count/num_students*100),2)"
   ]
  },
  {
   "cell_type": "code",
   "execution_count": 49,
   "metadata": {},
   "outputs": [],
   "source": [
    "#Calculate % students with passing reading score (70+)\n",
    "readingpass_df = school_data_complete.loc[school_data_complete[\"reading_score\"]>=70]\n",
    "readingpass_count = readingpass_df[\"reading_score\"].count()\n",
    "readingpass_percent = round((readingpass_count/num_students*100),2)"
   ]
  },
  {
   "cell_type": "code",
   "execution_count": 50,
   "metadata": {},
   "outputs": [
    {
     "data": {
      "text/html": "<div>\n<style scoped>\n    .dataframe tbody tr th:only-of-type {\n        vertical-align: middle;\n    }\n\n    .dataframe tbody tr th {\n        vertical-align: top;\n    }\n\n    .dataframe thead th {\n        text-align: right;\n    }\n</style>\n<table border=\"1\" class=\"dataframe\">\n  <thead>\n    <tr style=\"text-align: right;\">\n      <th></th>\n      <th>Total Number of Schools</th>\n      <th>Total Number of Students</th>\n      <th>Total Budget</th>\n      <th>Average Math Score</th>\n      <th>Average Reading Score</th>\n      <th>% Overall Passing Rate</th>\n      <th>% Passing Math</th>\n      <th>% Passing Reading</th>\n    </tr>\n  </thead>\n  <tbody>\n    <tr>\n      <th>0</th>\n      <td>15</td>\n      <td>39,170</td>\n      <td>$24,649,428.00</td>\n      <td>78.99</td>\n      <td>81.88</td>\n      <td>80.44</td>\n      <td>74.98</td>\n      <td>85.81</td>\n    </tr>\n  </tbody>\n</table>\n</div>",
      "text/plain": "   Total Number of Schools Total Number of Students    Total Budget  \\\n0                       15                   39,170  $24,649,428.00   \n\n   Average Math Score  Average Reading Score  % Overall Passing Rate  \\\n0               78.99                  81.88                   80.44   \n\n   % Passing Math  % Passing Reading  \n0           74.98              85.81  "
     },
     "execution_count": 50,
     "metadata": {},
     "output_type": "execute_result"
    }
   ],
   "source": [
    "#Create a DataFrame to hold the District Summary\n",
    "district_df = pd.DataFrame({\"Total Number of Schools\": num_schools,\"Total Number of Students\":num_students, \"Total Budget\": total_budget, \"Average Math Score\": math_av, \"Average Reading Score\": reading_av, \"% Overall Passing Rate\": overall_av, \"% Passing Math\": mathpass_percent, \"% Passing Reading\": readingpass_percent}, index=[0])\n",
    "\n",
    "district_df['Total Number of Students'] = district_df['Total Number of Students'].map(\"{:,.0f}\".format)\n",
    "\n",
    "district_df['Total Budget'] = district_df['Total Budget'].map(\"${:,.2f}\".format)\n",
    "\n",
    "district_df"
   ]
  },
  {
   "cell_type": "code",
   "execution_count": 51,
   "metadata": {},
   "outputs": [],
   "source": [
    "#Remove School ID column from school_data DF\n",
    "school_data_no_id = school_data.iloc [:,1:]"
   ]
  },
  {
   "cell_type": "code",
   "execution_count": 52,
   "metadata": {},
   "outputs": [
    {
     "data": {
      "text/html": "<div>\n<style scoped>\n    .dataframe tbody tr th:only-of-type {\n        vertical-align: middle;\n    }\n\n    .dataframe tbody tr th {\n        vertical-align: top;\n    }\n\n    .dataframe thead th {\n        text-align: right;\n    }\n</style>\n<table border=\"1\" class=\"dataframe\">\n  <thead>\n    <tr style=\"text-align: right;\">\n      <th></th>\n      <th>type</th>\n      <th>size</th>\n      <th>budget</th>\n    </tr>\n    <tr>\n      <th>school_name</th>\n      <th></th>\n      <th></th>\n      <th></th>\n    </tr>\n  </thead>\n  <tbody>\n    <tr>\n      <th>Huang High School</th>\n      <td>District</td>\n      <td>2917</td>\n      <td>1910635</td>\n    </tr>\n    <tr>\n      <th>Figueroa High School</th>\n      <td>District</td>\n      <td>2949</td>\n      <td>1884411</td>\n    </tr>\n    <tr>\n      <th>Shelton High School</th>\n      <td>Charter</td>\n      <td>1761</td>\n      <td>1056600</td>\n    </tr>\n    <tr>\n      <th>Hernandez High School</th>\n      <td>District</td>\n      <td>4635</td>\n      <td>3022020</td>\n    </tr>\n    <tr>\n      <th>Griffin High School</th>\n      <td>Charter</td>\n      <td>1468</td>\n      <td>917500</td>\n    </tr>\n    <tr>\n      <th>Wilson High School</th>\n      <td>Charter</td>\n      <td>2283</td>\n      <td>1319574</td>\n    </tr>\n    <tr>\n      <th>Cabrera High School</th>\n      <td>Charter</td>\n      <td>1858</td>\n      <td>1081356</td>\n    </tr>\n    <tr>\n      <th>Bailey High School</th>\n      <td>District</td>\n      <td>4976</td>\n      <td>3124928</td>\n    </tr>\n    <tr>\n      <th>Holden High School</th>\n      <td>Charter</td>\n      <td>427</td>\n      <td>248087</td>\n    </tr>\n    <tr>\n      <th>Pena High School</th>\n      <td>Charter</td>\n      <td>962</td>\n      <td>585858</td>\n    </tr>\n    <tr>\n      <th>Wright High School</th>\n      <td>Charter</td>\n      <td>1800</td>\n      <td>1049400</td>\n    </tr>\n    <tr>\n      <th>Rodriguez High School</th>\n      <td>District</td>\n      <td>3999</td>\n      <td>2547363</td>\n    </tr>\n    <tr>\n      <th>Johnson High School</th>\n      <td>District</td>\n      <td>4761</td>\n      <td>3094650</td>\n    </tr>\n    <tr>\n      <th>Ford High School</th>\n      <td>District</td>\n      <td>2739</td>\n      <td>1763916</td>\n    </tr>\n    <tr>\n      <th>Thomas High School</th>\n      <td>Charter</td>\n      <td>1635</td>\n      <td>1043130</td>\n    </tr>\n  </tbody>\n</table>\n</div>",
      "text/plain": "                           type  size   budget\nschool_name                                   \nHuang High School      District  2917  1910635\nFigueroa High School   District  2949  1884411\nShelton High School     Charter  1761  1056600\nHernandez High School  District  4635  3022020\nGriffin High School     Charter  1468   917500\nWilson High School      Charter  2283  1319574\nCabrera High School     Charter  1858  1081356\nBailey High School     District  4976  3124928\nHolden High School      Charter   427   248087\nPena High School        Charter   962   585858\nWright High School      Charter  1800  1049400\nRodriguez High School  District  3999  2547363\nJohnson High School    District  4761  3094650\nFord High School       District  2739  1763916\nThomas High School      Charter  1635  1043130"
     },
     "execution_count": 52,
     "metadata": {},
     "output_type": "execute_result"
    }
   ],
   "source": [
    "#Change index to school name\n",
    "school_data_new_index = school_data_no_id.set_index(\"school_name\")\n",
    "school_data_new_index"
   ]
  },
  {
   "cell_type": "code",
   "execution_count": 53,
   "metadata": {},
   "outputs": [],
   "source": [
    "#Rename columns and remove index label\n",
    "school_data_renamed = school_data_new_index.rename(columns={\"type\": \"School Type\", \"size\":\"Total Students\",\"budget\":\"School Budget\"})\n",
    "\n",
    "school_data_renamed.index.name = None"
   ]
  },
  {
   "cell_type": "code",
   "execution_count": 54,
   "metadata": {},
   "outputs": [],
   "source": [
    "#Create new column to calculate Per Student Budget\n",
    "school_data_renamed[\"Per Student Budget\"] = school_data_renamed[\"School Budget\"]/school_data_renamed[\"Total Students\"]\n",
    "\n",
    "school_data_renamed[\"Per Student Budget\"] = school_data_renamed[\"Per Student Budget\"].map(\"{:,.2f}\".format)"
   ]
  },
  {
   "cell_type": "code",
   "execution_count": 55,
   "metadata": {},
   "outputs": [],
   "source": [
    "#Group data by school\n",
    "grouped_data_by_school = school_data_complete.groupby('school_name')\n",
    "\n",
    "#Add average math score as column to School Summary DF\n",
    "school_data_renamed[\"Average Math Score\"] = grouped_data_by_school['math_score'].mean()\n",
    "\n",
    "school_data_renamed[\"Average Math Score\"] = school_data_renamed[\"Average Math Score\"].map(\"{:,.4f}\".format)"
   ]
  },
  {
   "cell_type": "code",
   "execution_count": 56,
   "metadata": {},
   "outputs": [],
   "source": [
    "#Calculate average reading score per school & add column to School Summary DF\n",
    "school_data_renamed[\"Average Reading Score\"] = grouped_data_by_school['reading_score'].mean()\n",
    "\n",
    "school_data_renamed[\"Average Reading Score\"] = school_data_renamed[\"Average Reading Score\"].map(\"{:,.4f}\".format)"
   ]
  },
  {
   "cell_type": "code",
   "execution_count": 57,
   "metadata": {},
   "outputs": [],
   "source": [
    "#Calculate number of kids per school passing math\n",
    "mathpass_by_school = mathpass_df[\"school_name\"].value_counts()\n",
    "\n",
    "#Sort series and DF to be used\n",
    "mathpass_by_school.sort_index()\n",
    "school_data_renamed.sort_index()\n",
    "\n",
    "#Add % passing math as column to School Summary DF\n",
    "school_data_renamed[\"% Passing Math\"] =  (mathpass_by_school / school_data_renamed[\"Total Students\"]*100)\n",
    "\n",
    "school_data_renamed[\"% Passing Math\"] = school_data_renamed[\"% Passing Math\"].map(\"{:,.4f}\".format)"
   ]
  },
  {
   "cell_type": "code",
   "execution_count": 58,
   "metadata": {},
   "outputs": [],
   "source": [
    "#Calculate number of kids per school passing reading\n",
    "readingpass_by_school = readingpass_df[\"school_name\"].value_counts()\n",
    "\n",
    "#Sort series and DF to be used\n",
    "readingpass_by_school.sort_index()\n",
    "\n",
    "#Add % passing reading as column to School Summary DF\n",
    "school_data_renamed[\"% Passing Reading\"] =  (readingpass_by_school / school_data_renamed[\"Total Students\"]*100)\n",
    "\n",
    "school_data_renamed[\"% Passing Reading\"] = school_data_renamed[\"% Passing Reading\"].map(\"{:,.4f}\".format)"
   ]
  },
  {
   "cell_type": "code",
   "execution_count": 59,
   "metadata": {},
   "outputs": [
    {
     "data": {
      "text/html": "<div>\n<style scoped>\n    .dataframe tbody tr th:only-of-type {\n        vertical-align: middle;\n    }\n\n    .dataframe tbody tr th {\n        vertical-align: top;\n    }\n\n    .dataframe thead th {\n        text-align: right;\n    }\n</style>\n<table border=\"1\" class=\"dataframe\">\n  <thead>\n    <tr style=\"text-align: right;\">\n      <th></th>\n      <th>School Type</th>\n      <th>Total Students</th>\n      <th>School Budget</th>\n      <th>Per Student Budget</th>\n      <th>Average Math Score</th>\n      <th>Average Reading Score</th>\n      <th>% Passing Math</th>\n      <th>% Passing Reading</th>\n      <th>% Overall Passing Rate</th>\n    </tr>\n  </thead>\n  <tbody>\n    <tr>\n      <th>Huang High School</th>\n      <td>District</td>\n      <td>2917</td>\n      <td>1910635</td>\n      <td>655.00</td>\n      <td>76.6294</td>\n      <td>81.1827</td>\n      <td>65.6839</td>\n      <td>81.3164</td>\n      <td>73.5001</td>\n    </tr>\n    <tr>\n      <th>Figueroa High School</th>\n      <td>District</td>\n      <td>2949</td>\n      <td>1884411</td>\n      <td>639.00</td>\n      <td>76.7118</td>\n      <td>81.1580</td>\n      <td>65.9885</td>\n      <td>80.7392</td>\n      <td>73.3638</td>\n    </tr>\n    <tr>\n      <th>Shelton High School</th>\n      <td>Charter</td>\n      <td>1761</td>\n      <td>1056600</td>\n      <td>600.00</td>\n      <td>83.3595</td>\n      <td>83.7257</td>\n      <td>93.8671</td>\n      <td>95.8546</td>\n      <td>94.8608</td>\n    </tr>\n    <tr>\n      <th>Hernandez High School</th>\n      <td>District</td>\n      <td>4635</td>\n      <td>3022020</td>\n      <td>652.00</td>\n      <td>77.2898</td>\n      <td>80.9344</td>\n      <td>66.7530</td>\n      <td>80.8630</td>\n      <td>73.8080</td>\n    </tr>\n    <tr>\n      <th>Griffin High School</th>\n      <td>Charter</td>\n      <td>1468</td>\n      <td>917500</td>\n      <td>625.00</td>\n      <td>83.3515</td>\n      <td>83.8168</td>\n      <td>93.3924</td>\n      <td>97.1390</td>\n      <td>95.2657</td>\n    </tr>\n    <tr>\n      <th>Wilson High School</th>\n      <td>Charter</td>\n      <td>2283</td>\n      <td>1319574</td>\n      <td>578.00</td>\n      <td>83.2742</td>\n      <td>83.9895</td>\n      <td>93.8677</td>\n      <td>96.5396</td>\n      <td>95.2036</td>\n    </tr>\n    <tr>\n      <th>Cabrera High School</th>\n      <td>Charter</td>\n      <td>1858</td>\n      <td>1081356</td>\n      <td>582.00</td>\n      <td>83.0619</td>\n      <td>83.9758</td>\n      <td>94.1335</td>\n      <td>97.0398</td>\n      <td>95.5866</td>\n    </tr>\n    <tr>\n      <th>Bailey High School</th>\n      <td>District</td>\n      <td>4976</td>\n      <td>3124928</td>\n      <td>628.00</td>\n      <td>77.0484</td>\n      <td>81.0340</td>\n      <td>66.6801</td>\n      <td>81.9333</td>\n      <td>74.3067</td>\n    </tr>\n    <tr>\n      <th>Holden High School</th>\n      <td>Charter</td>\n      <td>427</td>\n      <td>248087</td>\n      <td>581.00</td>\n      <td>83.8033</td>\n      <td>83.8150</td>\n      <td>92.5059</td>\n      <td>96.2529</td>\n      <td>94.3794</td>\n    </tr>\n    <tr>\n      <th>Pena High School</th>\n      <td>Charter</td>\n      <td>962</td>\n      <td>585858</td>\n      <td>609.00</td>\n      <td>83.8399</td>\n      <td>84.0447</td>\n      <td>94.5946</td>\n      <td>95.9459</td>\n      <td>95.2703</td>\n    </tr>\n    <tr>\n      <th>Wright High School</th>\n      <td>Charter</td>\n      <td>1800</td>\n      <td>1049400</td>\n      <td>583.00</td>\n      <td>83.6822</td>\n      <td>83.9550</td>\n      <td>93.3333</td>\n      <td>96.6111</td>\n      <td>94.9722</td>\n    </tr>\n    <tr>\n      <th>Rodriguez High School</th>\n      <td>District</td>\n      <td>3999</td>\n      <td>2547363</td>\n      <td>637.00</td>\n      <td>76.8427</td>\n      <td>80.7447</td>\n      <td>66.3666</td>\n      <td>80.2201</td>\n      <td>73.2934</td>\n    </tr>\n    <tr>\n      <th>Johnson High School</th>\n      <td>District</td>\n      <td>4761</td>\n      <td>3094650</td>\n      <td>650.00</td>\n      <td>77.0725</td>\n      <td>80.9664</td>\n      <td>66.0576</td>\n      <td>81.2224</td>\n      <td>73.6400</td>\n    </tr>\n    <tr>\n      <th>Ford High School</th>\n      <td>District</td>\n      <td>2739</td>\n      <td>1763916</td>\n      <td>644.00</td>\n      <td>77.1026</td>\n      <td>80.7463</td>\n      <td>68.3096</td>\n      <td>79.2990</td>\n      <td>73.8043</td>\n    </tr>\n    <tr>\n      <th>Thomas High School</th>\n      <td>Charter</td>\n      <td>1635</td>\n      <td>1043130</td>\n      <td>638.00</td>\n      <td>83.4183</td>\n      <td>83.8489</td>\n      <td>93.2722</td>\n      <td>97.3089</td>\n      <td>95.2905</td>\n    </tr>\n  </tbody>\n</table>\n</div>",
      "text/plain": "                      School Type  Total Students  School Budget  \\\nHuang High School        District            2917        1910635   \nFigueroa High School     District            2949        1884411   \nShelton High School       Charter            1761        1056600   \nHernandez High School    District            4635        3022020   \nGriffin High School       Charter            1468         917500   \nWilson High School        Charter            2283        1319574   \nCabrera High School       Charter            1858        1081356   \nBailey High School       District            4976        3124928   \nHolden High School        Charter             427         248087   \nPena High School          Charter             962         585858   \nWright High School        Charter            1800        1049400   \nRodriguez High School    District            3999        2547363   \nJohnson High School      District            4761        3094650   \nFord High School         District            2739        1763916   \nThomas High School        Charter            1635        1043130   \n\n                      Per Student Budget Average Math Score  \\\nHuang High School                 655.00            76.6294   \nFigueroa High School              639.00            76.7118   \nShelton High School               600.00            83.3595   \nHernandez High School             652.00            77.2898   \nGriffin High School               625.00            83.3515   \nWilson High School                578.00            83.2742   \nCabrera High School               582.00            83.0619   \nBailey High School                628.00            77.0484   \nHolden High School                581.00            83.8033   \nPena High School                  609.00            83.8399   \nWright High School                583.00            83.6822   \nRodriguez High School             637.00            76.8427   \nJohnson High School               650.00            77.0725   \nFord High School                  644.00            77.1026   \nThomas High School                638.00            83.4183   \n\n                      Average Reading Score  % Passing Math  \\\nHuang High School                   81.1827         65.6839   \nFigueroa High School                81.1580         65.9885   \nShelton High School                 83.7257         93.8671   \nHernandez High School               80.9344         66.7530   \nGriffin High School                 83.8168         93.3924   \nWilson High School                  83.9895         93.8677   \nCabrera High School                 83.9758         94.1335   \nBailey High School                  81.0340         66.6801   \nHolden High School                  83.8150         92.5059   \nPena High School                    84.0447         94.5946   \nWright High School                  83.9550         93.3333   \nRodriguez High School               80.7447         66.3666   \nJohnson High School                 80.9664         66.0576   \nFord High School                    80.7463         68.3096   \nThomas High School                  83.8489         93.2722   \n\n                       % Passing Reading % Overall Passing Rate  \nHuang High School                81.3164                73.5001  \nFigueroa High School             80.7392                73.3638  \nShelton High School              95.8546                94.8608  \nHernandez High School            80.8630                73.8080  \nGriffin High School              97.1390                95.2657  \nWilson High School               96.5396                95.2036  \nCabrera High School              97.0398                95.5866  \nBailey High School               81.9333                74.3067  \nHolden High School               96.2529                94.3794  \nPena High School                 95.9459                95.2703  \nWright High School               96.6111                94.9722  \nRodriguez High School            80.2201                73.2934  \nJohnson High School              81.2224                73.6400  \nFord High School                 79.2990                73.8043  \nThomas High School               97.3089                95.2905  "
     },
     "execution_count": 59,
     "metadata": {},
     "output_type": "execute_result"
    }
   ],
   "source": [
    "#Convert % passing math and reading columns from objects to numeric\n",
    "school_data_renamed[\"% Passing Math\"]=pd.to_numeric(school_data_renamed[\"% Passing Math\"])\n",
    "school_data_renamed[\"% Passing Reading\"]=pd.to_numeric(school_data_renamed[\"% Passing Reading\"])\n",
    "\n",
    "#Add overall passing rate as column to School Summary DF\n",
    "school_data_renamed[\"% Overall Passing Rate\"] =  (school_data_renamed[\"% Passing Math\"] + school_data_renamed[\"% Passing Reading\"])/2\n",
    "\n",
    "school_data_renamed[\"% Overall Passing Rate\"] = school_data_renamed[\"% Overall Passing Rate\"].map(\"{:,.4f}\".format)\n",
    "school_data_renamed"
   ]
  },
  {
   "cell_type": "markdown",
   "metadata": {},
   "source": [
    "## Top Performing Schools (By Passing Rate)"
   ]
  },
  {
   "cell_type": "markdown",
   "metadata": {},
   "source": [
    "* Sort and display the top five schools in overall passing rate"
   ]
  },
  {
   "cell_type": "code",
   "execution_count": 60,
   "metadata": {},
   "outputs": [
    {
     "data": {
      "text/html": "<div>\n<style scoped>\n    .dataframe tbody tr th:only-of-type {\n        vertical-align: middle;\n    }\n\n    .dataframe tbody tr th {\n        vertical-align: top;\n    }\n\n    .dataframe thead th {\n        text-align: right;\n    }\n</style>\n<table border=\"1\" class=\"dataframe\">\n  <thead>\n    <tr style=\"text-align: right;\">\n      <th></th>\n      <th>School Type</th>\n      <th>Total Students</th>\n      <th>School Budget</th>\n      <th>Per Student Budget</th>\n      <th>Average Math Score</th>\n      <th>Average Reading Score</th>\n      <th>% Passing Math</th>\n      <th>% Passing Reading</th>\n      <th>% Overall Passing Rate</th>\n    </tr>\n  </thead>\n  <tbody>\n    <tr>\n      <th>Cabrera High School</th>\n      <td>Charter</td>\n      <td>1858</td>\n      <td>1081356</td>\n      <td>582.00</td>\n      <td>83.0619</td>\n      <td>83.9758</td>\n      <td>94.1335</td>\n      <td>97.0398</td>\n      <td>95.5866</td>\n    </tr>\n    <tr>\n      <th>Thomas High School</th>\n      <td>Charter</td>\n      <td>1635</td>\n      <td>1043130</td>\n      <td>638.00</td>\n      <td>83.4183</td>\n      <td>83.8489</td>\n      <td>93.2722</td>\n      <td>97.3089</td>\n      <td>95.2905</td>\n    </tr>\n    <tr>\n      <th>Pena High School</th>\n      <td>Charter</td>\n      <td>962</td>\n      <td>585858</td>\n      <td>609.00</td>\n      <td>83.8399</td>\n      <td>84.0447</td>\n      <td>94.5946</td>\n      <td>95.9459</td>\n      <td>95.2703</td>\n    </tr>\n    <tr>\n      <th>Griffin High School</th>\n      <td>Charter</td>\n      <td>1468</td>\n      <td>917500</td>\n      <td>625.00</td>\n      <td>83.3515</td>\n      <td>83.8168</td>\n      <td>93.3924</td>\n      <td>97.1390</td>\n      <td>95.2657</td>\n    </tr>\n    <tr>\n      <th>Wilson High School</th>\n      <td>Charter</td>\n      <td>2283</td>\n      <td>1319574</td>\n      <td>578.00</td>\n      <td>83.2742</td>\n      <td>83.9895</td>\n      <td>93.8677</td>\n      <td>96.5396</td>\n      <td>95.2036</td>\n    </tr>\n    <tr>\n      <th>Wright High School</th>\n      <td>Charter</td>\n      <td>1800</td>\n      <td>1049400</td>\n      <td>583.00</td>\n      <td>83.6822</td>\n      <td>83.9550</td>\n      <td>93.3333</td>\n      <td>96.6111</td>\n      <td>94.9722</td>\n    </tr>\n    <tr>\n      <th>Shelton High School</th>\n      <td>Charter</td>\n      <td>1761</td>\n      <td>1056600</td>\n      <td>600.00</td>\n      <td>83.3595</td>\n      <td>83.7257</td>\n      <td>93.8671</td>\n      <td>95.8546</td>\n      <td>94.8608</td>\n    </tr>\n    <tr>\n      <th>Holden High School</th>\n      <td>Charter</td>\n      <td>427</td>\n      <td>248087</td>\n      <td>581.00</td>\n      <td>83.8033</td>\n      <td>83.8150</td>\n      <td>92.5059</td>\n      <td>96.2529</td>\n      <td>94.3794</td>\n    </tr>\n    <tr>\n      <th>Bailey High School</th>\n      <td>District</td>\n      <td>4976</td>\n      <td>3124928</td>\n      <td>628.00</td>\n      <td>77.0484</td>\n      <td>81.0340</td>\n      <td>66.6801</td>\n      <td>81.9333</td>\n      <td>74.3067</td>\n    </tr>\n    <tr>\n      <th>Hernandez High School</th>\n      <td>District</td>\n      <td>4635</td>\n      <td>3022020</td>\n      <td>652.00</td>\n      <td>77.2898</td>\n      <td>80.9344</td>\n      <td>66.7530</td>\n      <td>80.8630</td>\n      <td>73.8080</td>\n    </tr>\n    <tr>\n      <th>Ford High School</th>\n      <td>District</td>\n      <td>2739</td>\n      <td>1763916</td>\n      <td>644.00</td>\n      <td>77.1026</td>\n      <td>80.7463</td>\n      <td>68.3096</td>\n      <td>79.2990</td>\n      <td>73.8043</td>\n    </tr>\n    <tr>\n      <th>Johnson High School</th>\n      <td>District</td>\n      <td>4761</td>\n      <td>3094650</td>\n      <td>650.00</td>\n      <td>77.0725</td>\n      <td>80.9664</td>\n      <td>66.0576</td>\n      <td>81.2224</td>\n      <td>73.6400</td>\n    </tr>\n    <tr>\n      <th>Huang High School</th>\n      <td>District</td>\n      <td>2917</td>\n      <td>1910635</td>\n      <td>655.00</td>\n      <td>76.6294</td>\n      <td>81.1827</td>\n      <td>65.6839</td>\n      <td>81.3164</td>\n      <td>73.5001</td>\n    </tr>\n    <tr>\n      <th>Figueroa High School</th>\n      <td>District</td>\n      <td>2949</td>\n      <td>1884411</td>\n      <td>639.00</td>\n      <td>76.7118</td>\n      <td>81.1580</td>\n      <td>65.9885</td>\n      <td>80.7392</td>\n      <td>73.3638</td>\n    </tr>\n    <tr>\n      <th>Rodriguez High School</th>\n      <td>District</td>\n      <td>3999</td>\n      <td>2547363</td>\n      <td>637.00</td>\n      <td>76.8427</td>\n      <td>80.7447</td>\n      <td>66.3666</td>\n      <td>80.2201</td>\n      <td>73.2934</td>\n    </tr>\n  </tbody>\n</table>\n</div>",
      "text/plain": "                      School Type  Total Students  School Budget  \\\nCabrera High School       Charter            1858        1081356   \nThomas High School        Charter            1635        1043130   \nPena High School          Charter             962         585858   \nGriffin High School       Charter            1468         917500   \nWilson High School        Charter            2283        1319574   \nWright High School        Charter            1800        1049400   \nShelton High School       Charter            1761        1056600   \nHolden High School        Charter             427         248087   \nBailey High School       District            4976        3124928   \nHernandez High School    District            4635        3022020   \nFord High School         District            2739        1763916   \nJohnson High School      District            4761        3094650   \nHuang High School        District            2917        1910635   \nFigueroa High School     District            2949        1884411   \nRodriguez High School    District            3999        2547363   \n\n                      Per Student Budget Average Math Score  \\\nCabrera High School               582.00            83.0619   \nThomas High School                638.00            83.4183   \nPena High School                  609.00            83.8399   \nGriffin High School               625.00            83.3515   \nWilson High School                578.00            83.2742   \nWright High School                583.00            83.6822   \nShelton High School               600.00            83.3595   \nHolden High School                581.00            83.8033   \nBailey High School                628.00            77.0484   \nHernandez High School             652.00            77.2898   \nFord High School                  644.00            77.1026   \nJohnson High School               650.00            77.0725   \nHuang High School                 655.00            76.6294   \nFigueroa High School              639.00            76.7118   \nRodriguez High School             637.00            76.8427   \n\n                      Average Reading Score  % Passing Math  \\\nCabrera High School                 83.9758         94.1335   \nThomas High School                  83.8489         93.2722   \nPena High School                    84.0447         94.5946   \nGriffin High School                 83.8168         93.3924   \nWilson High School                  83.9895         93.8677   \nWright High School                  83.9550         93.3333   \nShelton High School                 83.7257         93.8671   \nHolden High School                  83.8150         92.5059   \nBailey High School                  81.0340         66.6801   \nHernandez High School               80.9344         66.7530   \nFord High School                    80.7463         68.3096   \nJohnson High School                 80.9664         66.0576   \nHuang High School                   81.1827         65.6839   \nFigueroa High School                81.1580         65.9885   \nRodriguez High School               80.7447         66.3666   \n\n                       % Passing Reading % Overall Passing Rate  \nCabrera High School              97.0398                95.5866  \nThomas High School               97.3089                95.2905  \nPena High School                 95.9459                95.2703  \nGriffin High School              97.1390                95.2657  \nWilson High School               96.5396                95.2036  \nWright High School               96.6111                94.9722  \nShelton High School              95.8546                94.8608  \nHolden High School               96.2529                94.3794  \nBailey High School               81.9333                74.3067  \nHernandez High School            80.8630                73.8080  \nFord High School                 79.2990                73.8043  \nJohnson High School              81.2224                73.6400  \nHuang High School                81.3164                73.5001  \nFigueroa High School             80.7392                73.3638  \nRodriguez High School            80.2201                73.2934  "
     },
     "execution_count": 60,
     "metadata": {},
     "output_type": "execute_result"
    }
   ],
   "source": [
    "#Sort DF by passing rate\n",
    "school_data_renamed_sorted = school_data_renamed.sort_values([\"% Overall Passing Rate\"], ascending=False)\n",
    "school_data_renamed_sorted"
   ]
  },
  {
   "cell_type": "code",
   "execution_count": 61,
   "metadata": {},
   "outputs": [
    {
     "data": {
      "text/html": "<div>\n<style scoped>\n    .dataframe tbody tr th:only-of-type {\n        vertical-align: middle;\n    }\n\n    .dataframe tbody tr th {\n        vertical-align: top;\n    }\n\n    .dataframe thead th {\n        text-align: right;\n    }\n</style>\n<table border=\"1\" class=\"dataframe\">\n  <thead>\n    <tr style=\"text-align: right;\">\n      <th></th>\n      <th>School Type</th>\n      <th>Total Students</th>\n      <th>School Budget</th>\n      <th>Per Student Budget</th>\n      <th>Average Math Score</th>\n      <th>Average Reading Score</th>\n      <th>% Passing Math</th>\n      <th>% Passing Reading</th>\n      <th>% Overall Passing Rate</th>\n    </tr>\n  </thead>\n  <tbody>\n    <tr>\n      <th>Cabrera High School</th>\n      <td>Charter</td>\n      <td>1858</td>\n      <td>1081356</td>\n      <td>582.00</td>\n      <td>83.0619</td>\n      <td>83.9758</td>\n      <td>94.1335</td>\n      <td>97.0398</td>\n      <td>95.5866</td>\n    </tr>\n    <tr>\n      <th>Thomas High School</th>\n      <td>Charter</td>\n      <td>1635</td>\n      <td>1043130</td>\n      <td>638.00</td>\n      <td>83.4183</td>\n      <td>83.8489</td>\n      <td>93.2722</td>\n      <td>97.3089</td>\n      <td>95.2905</td>\n    </tr>\n    <tr>\n      <th>Pena High School</th>\n      <td>Charter</td>\n      <td>962</td>\n      <td>585858</td>\n      <td>609.00</td>\n      <td>83.8399</td>\n      <td>84.0447</td>\n      <td>94.5946</td>\n      <td>95.9459</td>\n      <td>95.2703</td>\n    </tr>\n    <tr>\n      <th>Griffin High School</th>\n      <td>Charter</td>\n      <td>1468</td>\n      <td>917500</td>\n      <td>625.00</td>\n      <td>83.3515</td>\n      <td>83.8168</td>\n      <td>93.3924</td>\n      <td>97.1390</td>\n      <td>95.2657</td>\n    </tr>\n    <tr>\n      <th>Wilson High School</th>\n      <td>Charter</td>\n      <td>2283</td>\n      <td>1319574</td>\n      <td>578.00</td>\n      <td>83.2742</td>\n      <td>83.9895</td>\n      <td>93.8677</td>\n      <td>96.5396</td>\n      <td>95.2036</td>\n    </tr>\n  </tbody>\n</table>\n</div>",
      "text/plain": "                    School Type  Total Students  School Budget  \\\nCabrera High School     Charter            1858        1081356   \nThomas High School      Charter            1635        1043130   \nPena High School        Charter             962         585858   \nGriffin High School     Charter            1468         917500   \nWilson High School      Charter            2283        1319574   \n\n                    Per Student Budget Average Math Score  \\\nCabrera High School             582.00            83.0619   \nThomas High School              638.00            83.4183   \nPena High School                609.00            83.8399   \nGriffin High School             625.00            83.3515   \nWilson High School              578.00            83.2742   \n\n                    Average Reading Score  % Passing Math  % Passing Reading  \\\nCabrera High School               83.9758         94.1335            97.0398   \nThomas High School                83.8489         93.2722            97.3089   \nPena High School                  84.0447         94.5946            95.9459   \nGriffin High School               83.8168         93.3924            97.1390   \nWilson High School                83.9895         93.8677            96.5396   \n\n                    % Overall Passing Rate  \nCabrera High School                95.5866  \nThomas High School                 95.2905  \nPena High School                   95.2703  \nGriffin High School                95.2657  \nWilson High School                 95.2036  "
     },
     "execution_count": 61,
     "metadata": {},
     "output_type": "execute_result"
    }
   ],
   "source": [
    "#Display first 5 schools\n",
    "school_data_renamed_sorted.iloc[0:5,:]"
   ]
  },
  {
   "cell_type": "markdown",
   "metadata": {},
   "source": [
    "## Bottom Performing Schools (By Passing Rate)"
   ]
  },
  {
   "cell_type": "markdown",
   "metadata": {},
   "source": [
    "* Sort and display the five worst-performing schools"
   ]
  },
  {
   "cell_type": "code",
   "execution_count": 62,
   "metadata": {},
   "outputs": [
    {
     "data": {
      "text/html": "<div>\n<style scoped>\n    .dataframe tbody tr th:only-of-type {\n        vertical-align: middle;\n    }\n\n    .dataframe tbody tr th {\n        vertical-align: top;\n    }\n\n    .dataframe thead th {\n        text-align: right;\n    }\n</style>\n<table border=\"1\" class=\"dataframe\">\n  <thead>\n    <tr style=\"text-align: right;\">\n      <th></th>\n      <th>School Type</th>\n      <th>Total Students</th>\n      <th>School Budget</th>\n      <th>Per Student Budget</th>\n      <th>Average Math Score</th>\n      <th>Average Reading Score</th>\n      <th>% Passing Math</th>\n      <th>% Passing Reading</th>\n      <th>% Overall Passing Rate</th>\n    </tr>\n  </thead>\n  <tbody>\n    <tr>\n      <th>Rodriguez High School</th>\n      <td>District</td>\n      <td>3999</td>\n      <td>2547363</td>\n      <td>637.00</td>\n      <td>76.8427</td>\n      <td>80.7447</td>\n      <td>66.3666</td>\n      <td>80.2201</td>\n      <td>73.2934</td>\n    </tr>\n    <tr>\n      <th>Figueroa High School</th>\n      <td>District</td>\n      <td>2949</td>\n      <td>1884411</td>\n      <td>639.00</td>\n      <td>76.7118</td>\n      <td>81.1580</td>\n      <td>65.9885</td>\n      <td>80.7392</td>\n      <td>73.3638</td>\n    </tr>\n    <tr>\n      <th>Huang High School</th>\n      <td>District</td>\n      <td>2917</td>\n      <td>1910635</td>\n      <td>655.00</td>\n      <td>76.6294</td>\n      <td>81.1827</td>\n      <td>65.6839</td>\n      <td>81.3164</td>\n      <td>73.5001</td>\n    </tr>\n    <tr>\n      <th>Johnson High School</th>\n      <td>District</td>\n      <td>4761</td>\n      <td>3094650</td>\n      <td>650.00</td>\n      <td>77.0725</td>\n      <td>80.9664</td>\n      <td>66.0576</td>\n      <td>81.2224</td>\n      <td>73.6400</td>\n    </tr>\n    <tr>\n      <th>Ford High School</th>\n      <td>District</td>\n      <td>2739</td>\n      <td>1763916</td>\n      <td>644.00</td>\n      <td>77.1026</td>\n      <td>80.7463</td>\n      <td>68.3096</td>\n      <td>79.2990</td>\n      <td>73.8043</td>\n    </tr>\n  </tbody>\n</table>\n</div>",
      "text/plain": "                      School Type  Total Students  School Budget  \\\nRodriguez High School    District            3999        2547363   \nFigueroa High School     District            2949        1884411   \nHuang High School        District            2917        1910635   \nJohnson High School      District            4761        3094650   \nFord High School         District            2739        1763916   \n\n                      Per Student Budget Average Math Score  \\\nRodriguez High School             637.00            76.8427   \nFigueroa High School              639.00            76.7118   \nHuang High School                 655.00            76.6294   \nJohnson High School               650.00            77.0725   \nFord High School                  644.00            77.1026   \n\n                      Average Reading Score  % Passing Math  \\\nRodriguez High School               80.7447         66.3666   \nFigueroa High School                81.1580         65.9885   \nHuang High School                   81.1827         65.6839   \nJohnson High School                 80.9664         66.0576   \nFord High School                    80.7463         68.3096   \n\n                       % Passing Reading % Overall Passing Rate  \nRodriguez High School            80.2201                73.2934  \nFigueroa High School             80.7392                73.3638  \nHuang High School                81.3164                73.5001  \nJohnson High School              81.2224                73.6400  \nFord High School                 79.2990                73.8043  "
     },
     "execution_count": 62,
     "metadata": {},
     "output_type": "execute_result"
    }
   ],
   "source": [
    "#Resort the DF and display bottom 5 schools\n",
    "school_data_renamed_sorted = school_data_renamed.sort_values([\"% Overall Passing Rate\"], ascending=True)\n",
    "school_data_renamed_sorted.iloc[0:5,:]"
   ]
  },
  {
   "cell_type": "markdown",
   "metadata": {
    "collapsed": true
   },
   "source": [
    "## Math Scores by Grade"
   ]
  },
  {
   "cell_type": "markdown",
   "metadata": {},
   "source": [
    "* Create a table that lists the average Reading Score for students of each grade level (9th, 10th, 11th, 12th) at each school.\n",
    "\n",
    "  * Create a pandas series for each grade. Hint: use a conditional statement.\n",
    "  \n",
    "  * Group each series by school\n",
    "  \n",
    "  * Combine the series into a dataframe\n",
    "  \n",
    "  * Optional: give the displayed data cleaner formatting"
   ]
  },
  {
   "cell_type": "code",
   "execution_count": 63,
   "metadata": {},
   "outputs": [],
   "source": [
    "#Create series for each grade's data\n",
    "scores_9th = school_data_complete.loc[school_data_complete['grade']==\"9th\",:]\n",
    "scores_10th = school_data_complete.loc[school_data_complete['grade']==\"10th\",:]\n",
    "scores_11th = school_data_complete.loc[school_data_complete['grade']==\"11th\",:]\n",
    "scores_12th = school_data_complete.loc[school_data_complete['grade']==\"12th\",:]"
   ]
  },
  {
   "cell_type": "code",
   "execution_count": 64,
   "metadata": {},
   "outputs": [],
   "source": [
    "#Calculate average math scores by school for 9th grade\n",
    "math_9th_group = scores_9th.groupby([\"school_name\"])\n",
    "math_9th_av = math_9th_group[\"math_score\"].mean()\n",
    "\n",
    "#Create dataframe for average math scores by school and grade\n",
    "math_by_grade = pd.DataFrame(math_9th_av)\n",
    "\n",
    "#Remove index label and rename column\n",
    "math_by_grade.index.name = None\n",
    "math_by_grade = math_by_grade.rename(columns = {\"math_score\":\"9th\"})"
   ]
  },
  {
   "cell_type": "code",
   "execution_count": 65,
   "metadata": {},
   "outputs": [
    {
     "data": {
      "text/html": "<div>\n<style scoped>\n    .dataframe tbody tr th:only-of-type {\n        vertical-align: middle;\n    }\n\n    .dataframe tbody tr th {\n        vertical-align: top;\n    }\n\n    .dataframe thead th {\n        text-align: right;\n    }\n</style>\n<table border=\"1\" class=\"dataframe\">\n  <thead>\n    <tr style=\"text-align: right;\">\n      <th></th>\n      <th>9th</th>\n      <th>10th</th>\n      <th>11th</th>\n      <th>12th</th>\n    </tr>\n  </thead>\n  <tbody>\n    <tr>\n      <th>Bailey High School</th>\n      <td>77.083676</td>\n      <td>76.996772</td>\n      <td>77.515588</td>\n      <td>76.492218</td>\n    </tr>\n    <tr>\n      <th>Cabrera High School</th>\n      <td>83.094697</td>\n      <td>83.154506</td>\n      <td>82.765560</td>\n      <td>83.277487</td>\n    </tr>\n    <tr>\n      <th>Figueroa High School</th>\n      <td>76.403037</td>\n      <td>76.539974</td>\n      <td>76.884344</td>\n      <td>77.151369</td>\n    </tr>\n    <tr>\n      <th>Ford High School</th>\n      <td>77.361345</td>\n      <td>77.672316</td>\n      <td>76.918058</td>\n      <td>76.179963</td>\n    </tr>\n    <tr>\n      <th>Griffin High School</th>\n      <td>82.044010</td>\n      <td>84.229064</td>\n      <td>83.842105</td>\n      <td>83.356164</td>\n    </tr>\n    <tr>\n      <th>Hernandez High School</th>\n      <td>77.438495</td>\n      <td>77.337408</td>\n      <td>77.136029</td>\n      <td>77.186567</td>\n    </tr>\n    <tr>\n      <th>Holden High School</th>\n      <td>83.787402</td>\n      <td>83.429825</td>\n      <td>85.000000</td>\n      <td>82.855422</td>\n    </tr>\n    <tr>\n      <th>Huang High School</th>\n      <td>77.027251</td>\n      <td>75.908735</td>\n      <td>76.446602</td>\n      <td>77.225641</td>\n    </tr>\n    <tr>\n      <th>Johnson High School</th>\n      <td>77.187857</td>\n      <td>76.691117</td>\n      <td>77.491653</td>\n      <td>76.863248</td>\n    </tr>\n    <tr>\n      <th>Pena High School</th>\n      <td>83.625455</td>\n      <td>83.372000</td>\n      <td>84.328125</td>\n      <td>84.121547</td>\n    </tr>\n    <tr>\n      <th>Rodriguez High School</th>\n      <td>76.859966</td>\n      <td>76.612500</td>\n      <td>76.395626</td>\n      <td>77.690748</td>\n    </tr>\n    <tr>\n      <th>Shelton High School</th>\n      <td>83.420755</td>\n      <td>82.917411</td>\n      <td>83.383495</td>\n      <td>83.778976</td>\n    </tr>\n    <tr>\n      <th>Thomas High School</th>\n      <td>83.590022</td>\n      <td>83.087886</td>\n      <td>83.498795</td>\n      <td>83.497041</td>\n    </tr>\n    <tr>\n      <th>Wilson High School</th>\n      <td>83.085578</td>\n      <td>83.724422</td>\n      <td>83.195326</td>\n      <td>83.035794</td>\n    </tr>\n    <tr>\n      <th>Wright High School</th>\n      <td>83.264706</td>\n      <td>84.010288</td>\n      <td>83.836782</td>\n      <td>83.644986</td>\n    </tr>\n  </tbody>\n</table>\n</div>",
      "text/plain": "                             9th       10th       11th       12th\nBailey High School     77.083676  76.996772  77.515588  76.492218\nCabrera High School    83.094697  83.154506  82.765560  83.277487\nFigueroa High School   76.403037  76.539974  76.884344  77.151369\nFord High School       77.361345  77.672316  76.918058  76.179963\nGriffin High School    82.044010  84.229064  83.842105  83.356164\nHernandez High School  77.438495  77.337408  77.136029  77.186567\nHolden High School     83.787402  83.429825  85.000000  82.855422\nHuang High School      77.027251  75.908735  76.446602  77.225641\nJohnson High School    77.187857  76.691117  77.491653  76.863248\nPena High School       83.625455  83.372000  84.328125  84.121547\nRodriguez High School  76.859966  76.612500  76.395626  77.690748\nShelton High School    83.420755  82.917411  83.383495  83.778976\nThomas High School     83.590022  83.087886  83.498795  83.497041\nWilson High School     83.085578  83.724422  83.195326  83.035794\nWright High School     83.264706  84.010288  83.836782  83.644986"
     },
     "execution_count": 65,
     "metadata": {},
     "output_type": "execute_result"
    }
   ],
   "source": [
    "#Calculate and append the rest of the average grades to the DF\n",
    "math_10th_group = scores_10th.groupby([\"school_name\"])\n",
    "math_10th_av = math_10th_group[\"math_score\"].mean()\n",
    "math_by_grade[\"10th\"] = math_10th_av\n",
    "\n",
    "math_11th_group = scores_11th.groupby([\"school_name\"])\n",
    "math_11th_av = math_11th_group[\"math_score\"].mean()\n",
    "math_by_grade[\"11th\"] = math_11th_av\n",
    "\n",
    "math_12th_group = scores_12th.groupby([\"school_name\"])\n",
    "math_12th_av = math_12th_group[\"math_score\"].mean()\n",
    "math_by_grade[\"12th\"] = math_12th_av\n",
    "\n",
    "math_by_grade"
   ]
  },
  {
   "cell_type": "markdown",
   "metadata": {},
   "source": [
    "## Reading Score by Grade "
   ]
  },
  {
   "cell_type": "markdown",
   "metadata": {},
   "source": [
    "* Perform the same operations as above for reading scores"
   ]
  },
  {
   "cell_type": "code",
   "execution_count": 16,
   "metadata": {},
   "outputs": [
    {
     "data": {
      "text/html": [
       "<div>\n",
       "<style scoped>\n",
       "    .dataframe tbody tr th:only-of-type {\n",
       "        vertical-align: middle;\n",
       "    }\n",
       "\n",
       "    .dataframe tbody tr th {\n",
       "        vertical-align: top;\n",
       "    }\n",
       "\n",
       "    .dataframe thead th {\n",
       "        text-align: right;\n",
       "    }\n",
       "</style>\n",
       "<table border=\"1\" class=\"dataframe\">\n",
       "  <thead>\n",
       "    <tr style=\"text-align: right;\">\n",
       "      <th></th>\n",
       "      <th>9th</th>\n",
       "      <th>10th</th>\n",
       "      <th>11th</th>\n",
       "      <th>12th</th>\n",
       "    </tr>\n",
       "  </thead>\n",
       "  <tbody>\n",
       "    <tr>\n",
       "      <th>Bailey High School</th>\n",
       "      <td>81.303155</td>\n",
       "      <td>80.907183</td>\n",
       "      <td>80.945643</td>\n",
       "      <td>80.912451</td>\n",
       "    </tr>\n",
       "    <tr>\n",
       "      <th>Cabrera High School</th>\n",
       "      <td>83.676136</td>\n",
       "      <td>84.253219</td>\n",
       "      <td>83.788382</td>\n",
       "      <td>84.287958</td>\n",
       "    </tr>\n",
       "    <tr>\n",
       "      <th>Figueroa High School</th>\n",
       "      <td>81.198598</td>\n",
       "      <td>81.408912</td>\n",
       "      <td>80.640339</td>\n",
       "      <td>81.384863</td>\n",
       "    </tr>\n",
       "    <tr>\n",
       "      <th>Ford High School</th>\n",
       "      <td>80.632653</td>\n",
       "      <td>81.262712</td>\n",
       "      <td>80.403642</td>\n",
       "      <td>80.662338</td>\n",
       "    </tr>\n",
       "    <tr>\n",
       "      <th>Griffin High School</th>\n",
       "      <td>83.369193</td>\n",
       "      <td>83.706897</td>\n",
       "      <td>84.288089</td>\n",
       "      <td>84.013699</td>\n",
       "    </tr>\n",
       "    <tr>\n",
       "      <th>Hernandez High School</th>\n",
       "      <td>80.866860</td>\n",
       "      <td>80.660147</td>\n",
       "      <td>81.396140</td>\n",
       "      <td>80.857143</td>\n",
       "    </tr>\n",
       "    <tr>\n",
       "      <th>Holden High School</th>\n",
       "      <td>83.677165</td>\n",
       "      <td>83.324561</td>\n",
       "      <td>83.815534</td>\n",
       "      <td>84.698795</td>\n",
       "    </tr>\n",
       "    <tr>\n",
       "      <th>Huang High School</th>\n",
       "      <td>81.290284</td>\n",
       "      <td>81.512386</td>\n",
       "      <td>81.417476</td>\n",
       "      <td>80.305983</td>\n",
       "    </tr>\n",
       "    <tr>\n",
       "      <th>Johnson High School</th>\n",
       "      <td>81.260714</td>\n",
       "      <td>80.773431</td>\n",
       "      <td>80.616027</td>\n",
       "      <td>81.227564</td>\n",
       "    </tr>\n",
       "    <tr>\n",
       "      <th>Pena High School</th>\n",
       "      <td>83.807273</td>\n",
       "      <td>83.612000</td>\n",
       "      <td>84.335938</td>\n",
       "      <td>84.591160</td>\n",
       "    </tr>\n",
       "    <tr>\n",
       "      <th>Rodriguez High School</th>\n",
       "      <td>80.993127</td>\n",
       "      <td>80.629808</td>\n",
       "      <td>80.864811</td>\n",
       "      <td>80.376426</td>\n",
       "    </tr>\n",
       "    <tr>\n",
       "      <th>Shelton High School</th>\n",
       "      <td>84.122642</td>\n",
       "      <td>83.441964</td>\n",
       "      <td>84.373786</td>\n",
       "      <td>82.781671</td>\n",
       "    </tr>\n",
       "    <tr>\n",
       "      <th>Thomas High School</th>\n",
       "      <td>83.728850</td>\n",
       "      <td>84.254157</td>\n",
       "      <td>83.585542</td>\n",
       "      <td>83.831361</td>\n",
       "    </tr>\n",
       "    <tr>\n",
       "      <th>Wilson High School</th>\n",
       "      <td>83.939778</td>\n",
       "      <td>84.021452</td>\n",
       "      <td>83.764608</td>\n",
       "      <td>84.317673</td>\n",
       "    </tr>\n",
       "    <tr>\n",
       "      <th>Wright High School</th>\n",
       "      <td>83.833333</td>\n",
       "      <td>83.812757</td>\n",
       "      <td>84.156322</td>\n",
       "      <td>84.073171</td>\n",
       "    </tr>\n",
       "  </tbody>\n",
       "</table>\n",
       "</div>"
      ],
      "text/plain": [
       "                             9th       10th       11th       12th\n",
       "Bailey High School     81.303155  80.907183  80.945643  80.912451\n",
       "Cabrera High School    83.676136  84.253219  83.788382  84.287958\n",
       "Figueroa High School   81.198598  81.408912  80.640339  81.384863\n",
       "Ford High School       80.632653  81.262712  80.403642  80.662338\n",
       "Griffin High School    83.369193  83.706897  84.288089  84.013699\n",
       "Hernandez High School  80.866860  80.660147  81.396140  80.857143\n",
       "Holden High School     83.677165  83.324561  83.815534  84.698795\n",
       "Huang High School      81.290284  81.512386  81.417476  80.305983\n",
       "Johnson High School    81.260714  80.773431  80.616027  81.227564\n",
       "Pena High School       83.807273  83.612000  84.335938  84.591160\n",
       "Rodriguez High School  80.993127  80.629808  80.864811  80.376426\n",
       "Shelton High School    84.122642  83.441964  84.373786  82.781671\n",
       "Thomas High School     83.728850  84.254157  83.585542  83.831361\n",
       "Wilson High School     83.939778  84.021452  83.764608  84.317673\n",
       "Wright High School     83.833333  83.812757  84.156322  84.073171"
      ]
     },
     "execution_count": 16,
     "metadata": {},
     "output_type": "execute_result"
    }
   ],
   "source": []
  },
  {
   "cell_type": "code",
   "execution_count": 66,
   "metadata": {},
   "outputs": [],
   "source": [
    "#Calculate average reading scores by school for 9th grade\n",
    "reading_9th_group = scores_9th.groupby([\"school_name\"])\n",
    "reading_9th_av = reading_9th_group[\"reading_score\"].mean()\n",
    "\n",
    "#Create dataframe for average reading scores by school and grade\n",
    "reading_by_grade = pd.DataFrame(reading_9th_av)\n",
    "\n",
    "#Remove index label and rename column\n",
    "reading_by_grade.index.name = None\n",
    "reading_by_grade = reading_by_grade.rename(columns = {\"reading_score\":\"9th\"})"
   ]
  },
  {
   "cell_type": "code",
   "execution_count": 67,
   "metadata": {},
   "outputs": [
    {
     "data": {
      "text/html": "<div>\n<style scoped>\n    .dataframe tbody tr th:only-of-type {\n        vertical-align: middle;\n    }\n\n    .dataframe tbody tr th {\n        vertical-align: top;\n    }\n\n    .dataframe thead th {\n        text-align: right;\n    }\n</style>\n<table border=\"1\" class=\"dataframe\">\n  <thead>\n    <tr style=\"text-align: right;\">\n      <th></th>\n      <th>9th</th>\n      <th>10th</th>\n      <th>11th</th>\n      <th>12th</th>\n    </tr>\n  </thead>\n  <tbody>\n    <tr>\n      <th>Bailey High School</th>\n      <td>81.303155</td>\n      <td>80.907183</td>\n      <td>80.945643</td>\n      <td>80.912451</td>\n    </tr>\n    <tr>\n      <th>Cabrera High School</th>\n      <td>83.676136</td>\n      <td>84.253219</td>\n      <td>83.788382</td>\n      <td>84.287958</td>\n    </tr>\n    <tr>\n      <th>Figueroa High School</th>\n      <td>81.198598</td>\n      <td>81.408912</td>\n      <td>80.640339</td>\n      <td>81.384863</td>\n    </tr>\n    <tr>\n      <th>Ford High School</th>\n      <td>80.632653</td>\n      <td>81.262712</td>\n      <td>80.403642</td>\n      <td>80.662338</td>\n    </tr>\n    <tr>\n      <th>Griffin High School</th>\n      <td>83.369193</td>\n      <td>83.706897</td>\n      <td>84.288089</td>\n      <td>84.013699</td>\n    </tr>\n    <tr>\n      <th>Hernandez High School</th>\n      <td>80.866860</td>\n      <td>80.660147</td>\n      <td>81.396140</td>\n      <td>80.857143</td>\n    </tr>\n    <tr>\n      <th>Holden High School</th>\n      <td>83.677165</td>\n      <td>83.324561</td>\n      <td>83.815534</td>\n      <td>84.698795</td>\n    </tr>\n    <tr>\n      <th>Huang High School</th>\n      <td>81.290284</td>\n      <td>81.512386</td>\n      <td>81.417476</td>\n      <td>80.305983</td>\n    </tr>\n    <tr>\n      <th>Johnson High School</th>\n      <td>81.260714</td>\n      <td>80.773431</td>\n      <td>80.616027</td>\n      <td>81.227564</td>\n    </tr>\n    <tr>\n      <th>Pena High School</th>\n      <td>83.807273</td>\n      <td>83.612000</td>\n      <td>84.335938</td>\n      <td>84.591160</td>\n    </tr>\n    <tr>\n      <th>Rodriguez High School</th>\n      <td>80.993127</td>\n      <td>80.629808</td>\n      <td>80.864811</td>\n      <td>80.376426</td>\n    </tr>\n    <tr>\n      <th>Shelton High School</th>\n      <td>84.122642</td>\n      <td>83.441964</td>\n      <td>84.373786</td>\n      <td>82.781671</td>\n    </tr>\n    <tr>\n      <th>Thomas High School</th>\n      <td>83.728850</td>\n      <td>84.254157</td>\n      <td>83.585542</td>\n      <td>83.831361</td>\n    </tr>\n    <tr>\n      <th>Wilson High School</th>\n      <td>83.939778</td>\n      <td>84.021452</td>\n      <td>83.764608</td>\n      <td>84.317673</td>\n    </tr>\n    <tr>\n      <th>Wright High School</th>\n      <td>83.833333</td>\n      <td>83.812757</td>\n      <td>84.156322</td>\n      <td>84.073171</td>\n    </tr>\n  </tbody>\n</table>\n</div>",
      "text/plain": "                             9th       10th       11th       12th\nBailey High School     81.303155  80.907183  80.945643  80.912451\nCabrera High School    83.676136  84.253219  83.788382  84.287958\nFigueroa High School   81.198598  81.408912  80.640339  81.384863\nFord High School       80.632653  81.262712  80.403642  80.662338\nGriffin High School    83.369193  83.706897  84.288089  84.013699\nHernandez High School  80.866860  80.660147  81.396140  80.857143\nHolden High School     83.677165  83.324561  83.815534  84.698795\nHuang High School      81.290284  81.512386  81.417476  80.305983\nJohnson High School    81.260714  80.773431  80.616027  81.227564\nPena High School       83.807273  83.612000  84.335938  84.591160\nRodriguez High School  80.993127  80.629808  80.864811  80.376426\nShelton High School    84.122642  83.441964  84.373786  82.781671\nThomas High School     83.728850  84.254157  83.585542  83.831361\nWilson High School     83.939778  84.021452  83.764608  84.317673\nWright High School     83.833333  83.812757  84.156322  84.073171"
     },
     "execution_count": 67,
     "metadata": {},
     "output_type": "execute_result"
    }
   ],
   "source": [
    "#Calculate and append the rest of the average grades to the DF\n",
    "reading_10th_group = scores_10th.groupby([\"school_name\"])\n",
    "reading_10th_av = reading_10th_group[\"reading_score\"].mean()\n",
    "reading_by_grade[\"10th\"] = reading_10th_av\n",
    "\n",
    "reading_11th_group = scores_11th.groupby([\"school_name\"])\n",
    "reading_11th_av = reading_11th_group[\"reading_score\"].mean()\n",
    "reading_by_grade[\"11th\"] = reading_11th_av\n",
    "\n",
    "reading_12th_group = scores_12th.groupby([\"school_name\"])\n",
    "reading_12th_av = reading_12th_group[\"reading_score\"].mean()\n",
    "reading_by_grade[\"12th\"] = reading_12th_av\n",
    "\n",
    "reading_by_grade"
   ]
  },
  {
   "cell_type": "markdown",
   "metadata": {},
   "source": [
    "## Scores by School Spending"
   ]
  },
  {
   "cell_type": "markdown",
   "metadata": {},
   "source": [
    "* Create a table that breaks down school performances based on average Spending Ranges (Per Student). Use 4 reasonable bins to group school spending. Include in the table each of the following:\n",
    "  * Average Math Score\n",
    "  * Average Reading Score\n",
    "  * % Passing Math\n",
    "  * % Passing Reading\n",
    "  * Overall Passing Rate (Average of the above two)"
   ]
  },
  {
   "cell_type": "code",
   "execution_count": 82,
   "metadata": {},
   "outputs": [
    {
     "data": {
      "text/html": "<div>\n<style scoped>\n    .dataframe tbody tr th:only-of-type {\n        vertical-align: middle;\n    }\n\n    .dataframe tbody tr th {\n        vertical-align: top;\n    }\n\n    .dataframe thead th {\n        text-align: right;\n    }\n</style>\n<table border=\"1\" class=\"dataframe\">\n  <thead>\n    <tr style=\"text-align: right;\">\n      <th></th>\n      <th>Student ID</th>\n      <th>student_name</th>\n      <th>gender</th>\n      <th>grade</th>\n      <th>school_name</th>\n      <th>reading_score</th>\n      <th>math_score</th>\n      <th>School ID</th>\n      <th>type</th>\n      <th>size</th>\n      <th>budget</th>\n    </tr>\n  </thead>\n  <tbody>\n    <tr>\n      <th>0</th>\n      <td>0</td>\n      <td>Paul Bradley</td>\n      <td>M</td>\n      <td>9th</td>\n      <td>Huang High School</td>\n      <td>66</td>\n      <td>79</td>\n      <td>0</td>\n      <td>District</td>\n      <td>2917</td>\n      <td>1910635</td>\n    </tr>\n    <tr>\n      <th>1</th>\n      <td>1</td>\n      <td>Victor Smith</td>\n      <td>M</td>\n      <td>12th</td>\n      <td>Huang High School</td>\n      <td>94</td>\n      <td>61</td>\n      <td>0</td>\n      <td>District</td>\n      <td>2917</td>\n      <td>1910635</td>\n    </tr>\n    <tr>\n      <th>2</th>\n      <td>2</td>\n      <td>Kevin Rodriguez</td>\n      <td>M</td>\n      <td>12th</td>\n      <td>Huang High School</td>\n      <td>90</td>\n      <td>60</td>\n      <td>0</td>\n      <td>District</td>\n      <td>2917</td>\n      <td>1910635</td>\n    </tr>\n    <tr>\n      <th>3</th>\n      <td>3</td>\n      <td>Dr. Richard Scott</td>\n      <td>M</td>\n      <td>12th</td>\n      <td>Huang High School</td>\n      <td>67</td>\n      <td>58</td>\n      <td>0</td>\n      <td>District</td>\n      <td>2917</td>\n      <td>1910635</td>\n    </tr>\n    <tr>\n      <th>4</th>\n      <td>4</td>\n      <td>Bonnie Ray</td>\n      <td>F</td>\n      <td>9th</td>\n      <td>Huang High School</td>\n      <td>97</td>\n      <td>84</td>\n      <td>0</td>\n      <td>District</td>\n      <td>2917</td>\n      <td>1910635</td>\n    </tr>\n    <tr>\n      <th>...</th>\n      <td>...</td>\n      <td>...</td>\n      <td>...</td>\n      <td>...</td>\n      <td>...</td>\n      <td>...</td>\n      <td>...</td>\n      <td>...</td>\n      <td>...</td>\n      <td>...</td>\n      <td>...</td>\n    </tr>\n    <tr>\n      <th>39165</th>\n      <td>39165</td>\n      <td>Donna Howard</td>\n      <td>F</td>\n      <td>12th</td>\n      <td>Thomas High School</td>\n      <td>99</td>\n      <td>90</td>\n      <td>14</td>\n      <td>Charter</td>\n      <td>1635</td>\n      <td>1043130</td>\n    </tr>\n    <tr>\n      <th>39166</th>\n      <td>39166</td>\n      <td>Dawn Bell</td>\n      <td>F</td>\n      <td>10th</td>\n      <td>Thomas High School</td>\n      <td>95</td>\n      <td>70</td>\n      <td>14</td>\n      <td>Charter</td>\n      <td>1635</td>\n      <td>1043130</td>\n    </tr>\n    <tr>\n      <th>39167</th>\n      <td>39167</td>\n      <td>Rebecca Tanner</td>\n      <td>F</td>\n      <td>9th</td>\n      <td>Thomas High School</td>\n      <td>73</td>\n      <td>84</td>\n      <td>14</td>\n      <td>Charter</td>\n      <td>1635</td>\n      <td>1043130</td>\n    </tr>\n    <tr>\n      <th>39168</th>\n      <td>39168</td>\n      <td>Desiree Kidd</td>\n      <td>F</td>\n      <td>10th</td>\n      <td>Thomas High School</td>\n      <td>99</td>\n      <td>90</td>\n      <td>14</td>\n      <td>Charter</td>\n      <td>1635</td>\n      <td>1043130</td>\n    </tr>\n    <tr>\n      <th>39169</th>\n      <td>39169</td>\n      <td>Carolyn Jackson</td>\n      <td>F</td>\n      <td>11th</td>\n      <td>Thomas High School</td>\n      <td>95</td>\n      <td>75</td>\n      <td>14</td>\n      <td>Charter</td>\n      <td>1635</td>\n      <td>1043130</td>\n    </tr>\n  </tbody>\n</table>\n<p>39170 rows × 11 columns</p>\n</div>",
      "text/plain": "       Student ID       student_name gender grade         school_name  \\\n0               0       Paul Bradley      M   9th   Huang High School   \n1               1       Victor Smith      M  12th   Huang High School   \n2               2    Kevin Rodriguez      M  12th   Huang High School   \n3               3  Dr. Richard Scott      M  12th   Huang High School   \n4               4         Bonnie Ray      F   9th   Huang High School   \n...           ...                ...    ...   ...                 ...   \n39165       39165       Donna Howard      F  12th  Thomas High School   \n39166       39166          Dawn Bell      F  10th  Thomas High School   \n39167       39167     Rebecca Tanner      F   9th  Thomas High School   \n39168       39168       Desiree Kidd      F  10th  Thomas High School   \n39169       39169    Carolyn Jackson      F  11th  Thomas High School   \n\n       reading_score  math_score  School ID      type  size   budget  \n0                 66          79          0  District  2917  1910635  \n1                 94          61          0  District  2917  1910635  \n2                 90          60          0  District  2917  1910635  \n3                 67          58          0  District  2917  1910635  \n4                 97          84          0  District  2917  1910635  \n...              ...         ...        ...       ...   ...      ...  \n39165             99          90         14   Charter  1635  1043130  \n39166             95          70         14   Charter  1635  1043130  \n39167             73          84         14   Charter  1635  1043130  \n39168             99          90         14   Charter  1635  1043130  \n39169             95          75         14   Charter  1635  1043130  \n\n[39170 rows x 11 columns]"
     },
     "execution_count": 82,
     "metadata": {},
     "output_type": "execute_result"
    }
   ],
   "source": [
    "#Use df with unaveraged score data (school_data_complete)\n",
    "#Add budget per student as column\n",
    "school_spending_df = school_data_complete\n",
    "school_spending_df\n",
    "\n",
    "#Calculate number of students based on school and add as row\n",
    "#school_spending_df[\"num_students\"] = school_spending_df[\"budget\"]/"
   ]
  },
  {
   "cell_type": "code",
   "execution_count": null,
   "metadata": {},
   "outputs": [],
   "source": [
    "# Create bins and labels based on sample bins\n",
    "spending_bins = [555, 585, 615, 645, 675]\n",
    "group_names = [\"$555-584\", \"$585-614\", \"$615-644\", \"$645-674\"]"
   ]
  },
  {
   "cell_type": "code",
   "execution_count": null,
   "metadata": {},
   "outputs": [],
   "source": [
    "#Slice data with bins for budget per student\n",
    "#school_spending_df[\"Spending Bins\"] = pd.cut(school_data_complete['Per Student Budget'],spending_bins,labels=group_names)"
   ]
  },
  {
   "cell_type": "code",
   "execution_count": null,
   "metadata": {},
   "outputs": [],
   "source": [
    "#Create a groupby based on the spending bins\n",
    "#spending_bins = school_data_renamed.groupby(\"Spending Bins\")\n",
    "#spending_bins_df = spending_bins.get_group(\"$555-584\")\n",
    "\n",
    "#spending_bins[[\"Per Student Budget\",\"Average Math Score\",\"Average Reading Score\",\"% Passing Math\",\"% Passing Reading\",\"% Overall Passing Rate\"]]"
   ]
  },
  {
   "cell_type": "code",
   "execution_count": 18,
   "metadata": {},
   "outputs": [
    {
     "data": {
      "text/html": [
       "<div>\n",
       "<style scoped>\n",
       "    .dataframe tbody tr th:only-of-type {\n",
       "        vertical-align: middle;\n",
       "    }\n",
       "\n",
       "    .dataframe tbody tr th {\n",
       "        vertical-align: top;\n",
       "    }\n",
       "\n",
       "    .dataframe thead th {\n",
       "        text-align: right;\n",
       "    }\n",
       "</style>\n",
       "<table border=\"1\" class=\"dataframe\">\n",
       "  <thead>\n",
       "    <tr style=\"text-align: right;\">\n",
       "      <th></th>\n",
       "      <th>Average Math Score</th>\n",
       "      <th>Average Reading Score</th>\n",
       "      <th>% Passing Math</th>\n",
       "      <th>% Passing Reading</th>\n",
       "      <th>% Overall Passing Rate</th>\n",
       "    </tr>\n",
       "    <tr>\n",
       "      <th>Spending Ranges (Per Student)</th>\n",
       "      <th></th>\n",
       "      <th></th>\n",
       "      <th></th>\n",
       "      <th></th>\n",
       "      <th></th>\n",
       "    </tr>\n",
       "  </thead>\n",
       "  <tbody>\n",
       "    <tr>\n",
       "      <th>&lt;$585</th>\n",
       "      <td>83.455399</td>\n",
       "      <td>83.933814</td>\n",
       "      <td>93.460096</td>\n",
       "      <td>96.610877</td>\n",
       "      <td>95.035486</td>\n",
       "    </tr>\n",
       "    <tr>\n",
       "      <th>$585-615</th>\n",
       "      <td>83.599686</td>\n",
       "      <td>83.885211</td>\n",
       "      <td>94.230858</td>\n",
       "      <td>95.900287</td>\n",
       "      <td>95.065572</td>\n",
       "    </tr>\n",
       "    <tr>\n",
       "      <th>$615-645</th>\n",
       "      <td>79.079225</td>\n",
       "      <td>81.891436</td>\n",
       "      <td>75.668212</td>\n",
       "      <td>86.106569</td>\n",
       "      <td>80.887391</td>\n",
       "    </tr>\n",
       "    <tr>\n",
       "      <th>$645-675</th>\n",
       "      <td>76.997210</td>\n",
       "      <td>81.027843</td>\n",
       "      <td>66.164813</td>\n",
       "      <td>81.133951</td>\n",
       "      <td>73.649382</td>\n",
       "    </tr>\n",
       "  </tbody>\n",
       "</table>\n",
       "</div>"
      ],
      "text/plain": [
       "                               Average Math Score  Average Reading Score  \\\n",
       "Spending Ranges (Per Student)                                              \n",
       "<$585                                   83.455399              83.933814   \n",
       "$585-615                                83.599686              83.885211   \n",
       "$615-645                                79.079225              81.891436   \n",
       "$645-675                                76.997210              81.027843   \n",
       "\n",
       "                               % Passing Math  % Passing Reading  \\\n",
       "Spending Ranges (Per Student)                                      \n",
       "<$585                               93.460096          96.610877   \n",
       "$585-615                            94.230858          95.900287   \n",
       "$615-645                            75.668212          86.106569   \n",
       "$645-675                            66.164813          81.133951   \n",
       "\n",
       "                               % Overall Passing Rate  \n",
       "Spending Ranges (Per Student)                          \n",
       "<$585                                       95.035486  \n",
       "$585-615                                    95.065572  \n",
       "$615-645                                    80.887391  \n",
       "$645-675                                    73.649382  "
      ]
     },
     "execution_count": 18,
     "metadata": {},
     "output_type": "execute_result"
    }
   ],
   "source": []
  },
  {
   "cell_type": "markdown",
   "metadata": {},
   "source": [
    "## Scores by School Size"
   ]
  },
  {
   "cell_type": "markdown",
   "metadata": {},
   "source": [
    "* Perform the same operations as above, based on school size."
   ]
  },
  {
   "cell_type": "code",
   "execution_count": 80,
   "metadata": {},
   "outputs": [],
   "source": [
    "# Sample bins. Feel free to create your own bins.\n",
    "size_bins = [0, 1000, 2000, 5000]\n",
    "size_labels = [\"Small (<1000)\", \"Medium (1000-2000)\", \"Large (2000-5000)\"]"
   ]
  },
  {
   "cell_type": "code",
   "execution_count": 83,
   "metadata": {},
   "outputs": [
    {
     "data": {
      "text/html": "<div>\n<style scoped>\n    .dataframe tbody tr th:only-of-type {\n        vertical-align: middle;\n    }\n\n    .dataframe tbody tr th {\n        vertical-align: top;\n    }\n\n    .dataframe thead th {\n        text-align: right;\n    }\n</style>\n<table border=\"1\" class=\"dataframe\">\n  <thead>\n    <tr style=\"text-align: right;\">\n      <th></th>\n      <th>Student ID</th>\n      <th>student_name</th>\n      <th>gender</th>\n      <th>grade</th>\n      <th>school_name</th>\n      <th>reading_score</th>\n      <th>math_score</th>\n      <th>School ID</th>\n      <th>type</th>\n      <th>size</th>\n      <th>budget</th>\n      <th>School Size</th>\n    </tr>\n  </thead>\n  <tbody>\n    <tr>\n      <th>0</th>\n      <td>0</td>\n      <td>Paul Bradley</td>\n      <td>M</td>\n      <td>9th</td>\n      <td>Huang High School</td>\n      <td>66</td>\n      <td>79</td>\n      <td>0</td>\n      <td>District</td>\n      <td>2917</td>\n      <td>1910635</td>\n      <td>Large (2000-5000)</td>\n    </tr>\n    <tr>\n      <th>1</th>\n      <td>1</td>\n      <td>Victor Smith</td>\n      <td>M</td>\n      <td>12th</td>\n      <td>Huang High School</td>\n      <td>94</td>\n      <td>61</td>\n      <td>0</td>\n      <td>District</td>\n      <td>2917</td>\n      <td>1910635</td>\n      <td>Large (2000-5000)</td>\n    </tr>\n    <tr>\n      <th>2</th>\n      <td>2</td>\n      <td>Kevin Rodriguez</td>\n      <td>M</td>\n      <td>12th</td>\n      <td>Huang High School</td>\n      <td>90</td>\n      <td>60</td>\n      <td>0</td>\n      <td>District</td>\n      <td>2917</td>\n      <td>1910635</td>\n      <td>Large (2000-5000)</td>\n    </tr>\n    <tr>\n      <th>3</th>\n      <td>3</td>\n      <td>Dr. Richard Scott</td>\n      <td>M</td>\n      <td>12th</td>\n      <td>Huang High School</td>\n      <td>67</td>\n      <td>58</td>\n      <td>0</td>\n      <td>District</td>\n      <td>2917</td>\n      <td>1910635</td>\n      <td>Large (2000-5000)</td>\n    </tr>\n    <tr>\n      <th>4</th>\n      <td>4</td>\n      <td>Bonnie Ray</td>\n      <td>F</td>\n      <td>9th</td>\n      <td>Huang High School</td>\n      <td>97</td>\n      <td>84</td>\n      <td>0</td>\n      <td>District</td>\n      <td>2917</td>\n      <td>1910635</td>\n      <td>Large (2000-5000)</td>\n    </tr>\n  </tbody>\n</table>\n</div>",
      "text/plain": "   Student ID       student_name gender grade        school_name  \\\n0           0       Paul Bradley      M   9th  Huang High School   \n1           1       Victor Smith      M  12th  Huang High School   \n2           2    Kevin Rodriguez      M  12th  Huang High School   \n3           3  Dr. Richard Scott      M  12th  Huang High School   \n4           4         Bonnie Ray      F   9th  Huang High School   \n\n   reading_score  math_score  School ID      type  size   budget  \\\n0             66          79          0  District  2917  1910635   \n1             94          61          0  District  2917  1910635   \n2             90          60          0  District  2917  1910635   \n3             67          58          0  District  2917  1910635   \n4             97          84          0  District  2917  1910635   \n\n         School Size  \n0  Large (2000-5000)  \n1  Large (2000-5000)  \n2  Large (2000-5000)  \n3  Large (2000-5000)  \n4  Large (2000-5000)  "
     },
     "execution_count": 83,
     "metadata": {},
     "output_type": "execute_result"
    }
   ],
   "source": [
    "#Slice data with bins for budget per student\n",
    "school_spending_df[\"School Size\"] = pd.cut(school_data_complete['size'],size_bins,labels=size_labels)\n",
    "school_spending_df.head()"
   ]
  },
  {
   "cell_type": "code",
   "execution_count": 84,
   "metadata": {},
   "outputs": [
    {
     "data": {
      "text/html": "<div>\n<style scoped>\n    .dataframe tbody tr th:only-of-type {\n        vertical-align: middle;\n    }\n\n    .dataframe tbody tr th {\n        vertical-align: top;\n    }\n\n    .dataframe thead th {\n        text-align: right;\n    }\n</style>\n<table border=\"1\" class=\"dataframe\">\n  <thead>\n    <tr style=\"text-align: right;\">\n      <th></th>\n      <th>Average Math Score</th>\n      <th>Average Reading Score</th>\n    </tr>\n    <tr>\n      <th>School Size</th>\n      <th></th>\n      <th></th>\n    </tr>\n  </thead>\n  <tbody>\n    <tr>\n      <th>Small (&lt;1000)</th>\n      <td>83.828654</td>\n      <td>83.974082</td>\n    </tr>\n    <tr>\n      <th>Medium (1000-2000)</th>\n      <td>83.372682</td>\n      <td>83.867989</td>\n    </tr>\n    <tr>\n      <th>Large (2000-5000)</th>\n      <td>77.477597</td>\n      <td>81.198674</td>\n    </tr>\n  </tbody>\n</table>\n</div>",
      "text/plain": "                    Average Math Score  Average Reading Score\nSchool Size                                                  \nSmall (<1000)                83.828654              83.974082\nMedium (1000-2000)           83.372682              83.867989\nLarge (2000-5000)            77.477597              81.198674"
     },
     "execution_count": 84,
     "metadata": {},
     "output_type": "execute_result"
    }
   ],
   "source": [
    "#Create a groupby based on the school size bins and calculate mean score per size bin\n",
    "scores_by_size = school_spending_df.groupby(\"School Size\")\n",
    "scores_by_size_mean = scores_by_size.mean()\n",
    "scores_size_formatted = scores_by_size_mean[[\"math_score\",\"reading_score\"]]\n",
    "scores_size_formatted = scores_size_formatted.rename(columns = {\"math_score\":\"Average Math Score\",\"reading_score\":\"Average Reading Score\"})\n",
    "scores_size_formatted"
   ]
  },
  {
   "cell_type": "code",
   "execution_count": 85,
   "metadata": {},
   "outputs": [
    {
     "data": {
      "text/html": "<div>\n<style scoped>\n    .dataframe tbody tr th:only-of-type {\n        vertical-align: middle;\n    }\n\n    .dataframe tbody tr th {\n        vertical-align: top;\n    }\n\n    .dataframe thead th {\n        text-align: right;\n    }\n</style>\n<table border=\"1\" class=\"dataframe\">\n  <thead>\n    <tr style=\"text-align: right;\">\n      <th></th>\n      <th>Student ID</th>\n      <th>student_name</th>\n      <th>gender</th>\n      <th>grade</th>\n      <th>school_name</th>\n      <th>reading_score</th>\n      <th>math_score</th>\n      <th>School ID</th>\n      <th>type</th>\n      <th>size</th>\n      <th>budget</th>\n    </tr>\n    <tr>\n      <th>School Size</th>\n      <th></th>\n      <th></th>\n      <th></th>\n      <th></th>\n      <th></th>\n      <th></th>\n      <th></th>\n      <th></th>\n      <th></th>\n      <th></th>\n      <th></th>\n    </tr>\n  </thead>\n  <tbody>\n    <tr>\n      <th>Small (&lt;1000)</th>\n      <td>1389</td>\n      <td>1389</td>\n      <td>1389</td>\n      <td>1389</td>\n      <td>1389</td>\n      <td>1389</td>\n      <td>1389</td>\n      <td>1389</td>\n      <td>1389</td>\n      <td>1389</td>\n      <td>1389</td>\n    </tr>\n    <tr>\n      <th>Medium (1000-2000)</th>\n      <td>8522</td>\n      <td>8522</td>\n      <td>8522</td>\n      <td>8522</td>\n      <td>8522</td>\n      <td>8522</td>\n      <td>8522</td>\n      <td>8522</td>\n      <td>8522</td>\n      <td>8522</td>\n      <td>8522</td>\n    </tr>\n    <tr>\n      <th>Large (2000-5000)</th>\n      <td>29259</td>\n      <td>29259</td>\n      <td>29259</td>\n      <td>29259</td>\n      <td>29259</td>\n      <td>29259</td>\n      <td>29259</td>\n      <td>29259</td>\n      <td>29259</td>\n      <td>29259</td>\n      <td>29259</td>\n    </tr>\n  </tbody>\n</table>\n</div>",
      "text/plain": "                    Student ID  student_name  gender  grade  school_name  \\\nSchool Size                                                                \nSmall (<1000)             1389          1389    1389   1389         1389   \nMedium (1000-2000)        8522          8522    8522   8522         8522   \nLarge (2000-5000)        29259         29259   29259  29259        29259   \n\n                    reading_score  math_score  School ID   type   size  budget  \nSchool Size                                                                     \nSmall (<1000)                1389        1389       1389   1389   1389    1389  \nMedium (1000-2000)           8522        8522       8522   8522   8522    8522  \nLarge (2000-5000)           29259       29259      29259  29259  29259   29259  "
     },
     "execution_count": 85,
     "metadata": {},
     "output_type": "execute_result"
    }
   ],
   "source": [
    "#Calculate number of students in each size bin\n",
    "scores_by_size_count = scores_by_size.count()\n",
    "scores_by_size_count"
   ]
  },
  {
   "cell_type": "code",
   "execution_count": 110,
   "metadata": {},
   "outputs": [
    {
     "data": {
      "text/html": "<div>\n<style scoped>\n    .dataframe tbody tr th:only-of-type {\n        vertical-align: middle;\n    }\n\n    .dataframe tbody tr th {\n        vertical-align: top;\n    }\n\n    .dataframe thead th {\n        text-align: right;\n    }\n</style>\n<table border=\"1\" class=\"dataframe\">\n  <thead>\n    <tr style=\"text-align: right;\">\n      <th></th>\n      <th>Student ID</th>\n      <th>student_name</th>\n      <th>gender</th>\n      <th>grade</th>\n      <th>school_name</th>\n      <th>reading_score</th>\n      <th>math_score</th>\n      <th>School ID</th>\n      <th>type</th>\n      <th>size</th>\n      <th>budget</th>\n      <th>School Size</th>\n    </tr>\n  </thead>\n  <tbody>\n    <tr>\n      <th>0</th>\n      <td>0</td>\n      <td>Paul Bradley</td>\n      <td>M</td>\n      <td>9th</td>\n      <td>Huang High School</td>\n      <td>66</td>\n      <td>79</td>\n      <td>0</td>\n      <td>District</td>\n      <td>2917</td>\n      <td>1910635</td>\n      <td>Large (2000-5000)</td>\n    </tr>\n    <tr>\n      <th>4</th>\n      <td>4</td>\n      <td>Bonnie Ray</td>\n      <td>F</td>\n      <td>9th</td>\n      <td>Huang High School</td>\n      <td>97</td>\n      <td>84</td>\n      <td>0</td>\n      <td>District</td>\n      <td>2917</td>\n      <td>1910635</td>\n      <td>Large (2000-5000)</td>\n    </tr>\n    <tr>\n      <th>5</th>\n      <td>5</td>\n      <td>Bryan Miranda</td>\n      <td>M</td>\n      <td>9th</td>\n      <td>Huang High School</td>\n      <td>94</td>\n      <td>94</td>\n      <td>0</td>\n      <td>District</td>\n      <td>2917</td>\n      <td>1910635</td>\n      <td>Large (2000-5000)</td>\n    </tr>\n    <tr>\n      <th>6</th>\n      <td>6</td>\n      <td>Sheena Carter</td>\n      <td>F</td>\n      <td>11th</td>\n      <td>Huang High School</td>\n      <td>82</td>\n      <td>80</td>\n      <td>0</td>\n      <td>District</td>\n      <td>2917</td>\n      <td>1910635</td>\n      <td>Large (2000-5000)</td>\n    </tr>\n    <tr>\n      <th>8</th>\n      <td>8</td>\n      <td>Michael Roth</td>\n      <td>M</td>\n      <td>10th</td>\n      <td>Huang High School</td>\n      <td>95</td>\n      <td>87</td>\n      <td>0</td>\n      <td>District</td>\n      <td>2917</td>\n      <td>1910635</td>\n      <td>Large (2000-5000)</td>\n    </tr>\n  </tbody>\n</table>\n</div>",
      "text/plain": "   Student ID   student_name gender grade        school_name  reading_score  \\\n0           0   Paul Bradley      M   9th  Huang High School             66   \n4           4     Bonnie Ray      F   9th  Huang High School             97   \n5           5  Bryan Miranda      M   9th  Huang High School             94   \n6           6  Sheena Carter      F  11th  Huang High School             82   \n8           8   Michael Roth      M  10th  Huang High School             95   \n\n   math_score  School ID      type  size   budget        School Size  \n0          79          0  District  2917  1910635  Large (2000-5000)  \n4          84          0  District  2917  1910635  Large (2000-5000)  \n5          94          0  District  2917  1910635  Large (2000-5000)  \n6          80          0  District  2917  1910635  Large (2000-5000)  \n8          87          0  District  2917  1910635  Large (2000-5000)  "
     },
     "execution_count": 110,
     "metadata": {},
     "output_type": "execute_result"
    }
   ],
   "source": [
    "#Create DF for only students passing math\n",
    "scores_by_size_mathpass = school_spending_df.loc[(school_spending_df[\"math_score\"])>69,:]\n",
    "\n",
    "#Create a groupby based on the school size bins and count number of students in df per size bin\n",
    "scores_by_size_mathpass_group = scores_by_size_mathpass.groupby(\"School Size\")\n",
    "scores_by_size_mathpass_count = scores_by_size_mathpass_group.count()\n",
    "scores_by_size_mathpass.head()"
   ]
  },
  {
   "cell_type": "code",
   "execution_count": 98,
   "metadata": {},
   "outputs": [],
   "source": [
    "#Add new column for % passing math\n",
    "scores_size_formatted[\"% Passing Math\"] = scores_by_size_mathpass_count[\"gender\"]/scores_by_size_count[\"gender\"]*100"
   ]
  },
  {
   "cell_type": "code",
   "execution_count": 91,
   "metadata": {},
   "outputs": [
    {
     "data": {
      "text/html": "<div>\n<style scoped>\n    .dataframe tbody tr th:only-of-type {\n        vertical-align: middle;\n    }\n\n    .dataframe tbody tr th {\n        vertical-align: top;\n    }\n\n    .dataframe thead th {\n        text-align: right;\n    }\n</style>\n<table border=\"1\" class=\"dataframe\">\n  <thead>\n    <tr style=\"text-align: right;\">\n      <th></th>\n      <th>Student ID</th>\n      <th>student_name</th>\n      <th>gender</th>\n      <th>grade</th>\n      <th>school_name</th>\n      <th>reading_score</th>\n      <th>math_score</th>\n      <th>School ID</th>\n      <th>type</th>\n      <th>size</th>\n      <th>budget</th>\n    </tr>\n    <tr>\n      <th>School Size</th>\n      <th></th>\n      <th></th>\n      <th></th>\n      <th></th>\n      <th></th>\n      <th></th>\n      <th></th>\n      <th></th>\n      <th></th>\n      <th></th>\n      <th></th>\n    </tr>\n  </thead>\n  <tbody>\n    <tr>\n      <th>Small (&lt;1000)</th>\n      <td>1334</td>\n      <td>1334</td>\n      <td>1334</td>\n      <td>1334</td>\n      <td>1334</td>\n      <td>1334</td>\n      <td>1334</td>\n      <td>1334</td>\n      <td>1334</td>\n      <td>1334</td>\n      <td>1334</td>\n    </tr>\n    <tr>\n      <th>Medium (1000-2000)</th>\n      <td>8247</td>\n      <td>8247</td>\n      <td>8247</td>\n      <td>8247</td>\n      <td>8247</td>\n      <td>8247</td>\n      <td>8247</td>\n      <td>8247</td>\n      <td>8247</td>\n      <td>8247</td>\n      <td>8247</td>\n    </tr>\n    <tr>\n      <th>Large (2000-5000)</th>\n      <td>24029</td>\n      <td>24029</td>\n      <td>24029</td>\n      <td>24029</td>\n      <td>24029</td>\n      <td>24029</td>\n      <td>24029</td>\n      <td>24029</td>\n      <td>24029</td>\n      <td>24029</td>\n      <td>24029</td>\n    </tr>\n  </tbody>\n</table>\n</div>",
      "text/plain": "                    Student ID  student_name  gender  grade  school_name  \\\nSchool Size                                                                \nSmall (<1000)             1334          1334    1334   1334         1334   \nMedium (1000-2000)        8247          8247    8247   8247         8247   \nLarge (2000-5000)        24029         24029   24029  24029        24029   \n\n                    reading_score  math_score  School ID   type   size  budget  \nSchool Size                                                                     \nSmall (<1000)                1334        1334       1334   1334   1334    1334  \nMedium (1000-2000)           8247        8247       8247   8247   8247    8247  \nLarge (2000-5000)           24029       24029      24029  24029  24029   24029  "
     },
     "execution_count": 91,
     "metadata": {},
     "output_type": "execute_result"
    }
   ],
   "source": [
    "#Create DF for only students passing reading\n",
    "scores_by_size_readingpass = school_spending_df.loc[(school_spending_df[\"reading_score\"])>69,:]\n",
    "\n",
    "#Create a groupby based on the school size bins and count number of students in df per size bin\n",
    "scores_by_size_readingpass_group = scores_by_size_readingpass.groupby(\"School Size\")\n",
    "scores_by_size_readingpass_count = scores_by_size_readingpass_group.count()\n",
    "scores_by_size_readingpass_count"
   ]
  },
  {
   "cell_type": "code",
   "execution_count": 97,
   "metadata": {},
   "outputs": [],
   "source": [
    "#Add new column for % passing reading\n",
    "scores_size_formatted[\"% Passing Reading\"] = scores_by_size_readingpass_count[\"gender\"]/scores_by_size_count[\"gender\"]*100"
   ]
  },
  {
   "cell_type": "code",
   "execution_count": 96,
   "metadata": {},
   "outputs": [
    {
     "data": {
      "text/html": "<div>\n<style scoped>\n    .dataframe tbody tr th:only-of-type {\n        vertical-align: middle;\n    }\n\n    .dataframe tbody tr th {\n        vertical-align: top;\n    }\n\n    .dataframe thead th {\n        text-align: right;\n    }\n</style>\n<table border=\"1\" class=\"dataframe\">\n  <thead>\n    <tr style=\"text-align: right;\">\n      <th></th>\n      <th>Average Math Score</th>\n      <th>Average Reading Score</th>\n      <th>% Passing Math</th>\n      <th>% Passing Reading</th>\n      <th>% Overall Passing Rate</th>\n    </tr>\n    <tr>\n      <th>School Size</th>\n      <th></th>\n      <th></th>\n      <th></th>\n      <th></th>\n      <th></th>\n    </tr>\n  </thead>\n  <tbody>\n    <tr>\n      <th>Small (&lt;1000)</th>\n      <td>83.828654</td>\n      <td>83.974082</td>\n      <td>93.952484</td>\n      <td>96.040317</td>\n      <td>94.996400</td>\n    </tr>\n    <tr>\n      <th>Medium (1000-2000)</th>\n      <td>83.372682</td>\n      <td>83.867989</td>\n      <td>93.616522</td>\n      <td>96.773058</td>\n      <td>95.194790</td>\n    </tr>\n    <tr>\n      <th>Large (2000-5000)</th>\n      <td>77.477597</td>\n      <td>81.198674</td>\n      <td>68.652380</td>\n      <td>82.125158</td>\n      <td>75.388769</td>\n    </tr>\n  </tbody>\n</table>\n</div>",
      "text/plain": "                    Average Math Score  Average Reading Score  % Passing Math  \\\nSchool Size                                                                     \nSmall (<1000)                83.828654              83.974082       93.952484   \nMedium (1000-2000)           83.372682              83.867989       93.616522   \nLarge (2000-5000)            77.477597              81.198674       68.652380   \n\n                    % Passing Reading  % Overall Passing Rate  \nSchool Size                                                    \nSmall (<1000)               96.040317               94.996400  \nMedium (1000-2000)          96.773058               95.194790  \nLarge (2000-5000)           82.125158               75.388769  "
     },
     "execution_count": 96,
     "metadata": {},
     "output_type": "execute_result"
    }
   ],
   "source": [
    "#Add new column for Overall Pass Rate\n",
    "scores_size_formatted[\"% Overall Passing Rate\"] = (scores_size_formatted[\"% Passing Math\"] + scores_size_formatted[\"% Passing Reading\"])/2\n",
    "scores_size_formatted"
   ]
  },
  {
   "cell_type": "code",
   "execution_count": 19,
   "metadata": {
    "scrolled": true
   },
   "outputs": [
    {
     "data": {
      "text/html": [
       "<div>\n",
       "<style scoped>\n",
       "    .dataframe tbody tr th:only-of-type {\n",
       "        vertical-align: middle;\n",
       "    }\n",
       "\n",
       "    .dataframe tbody tr th {\n",
       "        vertical-align: top;\n",
       "    }\n",
       "\n",
       "    .dataframe thead th {\n",
       "        text-align: right;\n",
       "    }\n",
       "</style>\n",
       "<table border=\"1\" class=\"dataframe\">\n",
       "  <thead>\n",
       "    <tr style=\"text-align: right;\">\n",
       "      <th></th>\n",
       "      <th>Average Math Score</th>\n",
       "      <th>Average Reading Score</th>\n",
       "      <th>% Passing Math</th>\n",
       "      <th>% Passing Reading</th>\n",
       "      <th>% Overall Passing Rate</th>\n",
       "    </tr>\n",
       "    <tr>\n",
       "      <th>School Size</th>\n",
       "      <th></th>\n",
       "      <th></th>\n",
       "      <th></th>\n",
       "      <th></th>\n",
       "      <th></th>\n",
       "    </tr>\n",
       "  </thead>\n",
       "  <tbody>\n",
       "    <tr>\n",
       "      <th>Small (&lt;1000)</th>\n",
       "      <td>83.821598</td>\n",
       "      <td>83.929843</td>\n",
       "      <td>93.550225</td>\n",
       "      <td>96.099437</td>\n",
       "      <td>94.824831</td>\n",
       "    </tr>\n",
       "    <tr>\n",
       "      <th>Medium (1000-2000)</th>\n",
       "      <td>83.374684</td>\n",
       "      <td>83.864438</td>\n",
       "      <td>93.599695</td>\n",
       "      <td>96.790680</td>\n",
       "      <td>95.195187</td>\n",
       "    </tr>\n",
       "    <tr>\n",
       "      <th>Large (2000-5000)</th>\n",
       "      <td>77.746417</td>\n",
       "      <td>81.344493</td>\n",
       "      <td>69.963361</td>\n",
       "      <td>82.766634</td>\n",
       "      <td>76.364998</td>\n",
       "    </tr>\n",
       "  </tbody>\n",
       "</table>\n",
       "</div>"
      ],
      "text/plain": [
       "                    Average Math Score  Average Reading Score  % Passing Math  \\\n",
       "School Size                                                                     \n",
       "Small (<1000)                83.821598              83.929843       93.550225   \n",
       "Medium (1000-2000)           83.374684              83.864438       93.599695   \n",
       "Large (2000-5000)            77.746417              81.344493       69.963361   \n",
       "\n",
       "                    % Passing Reading  % Overall Passing Rate  \n",
       "School Size                                                    \n",
       "Small (<1000)               96.099437               94.824831  \n",
       "Medium (1000-2000)          96.790680               95.195187  \n",
       "Large (2000-5000)           82.766634               76.364998  "
      ]
     },
     "execution_count": 19,
     "metadata": {},
     "output_type": "execute_result"
    }
   ],
   "source": []
  },
  {
   "cell_type": "markdown",
   "metadata": {},
   "source": [
    "## Scores by School Type"
   ]
  },
  {
   "cell_type": "markdown",
   "metadata": {},
   "source": [
    "* Perform the same operations as above, based on school type."
   ]
  },
  {
   "cell_type": "code",
   "execution_count": 102,
   "metadata": {},
   "outputs": [
    {
     "data": {
      "text/html": "<div>\n<style scoped>\n    .dataframe tbody tr th:only-of-type {\n        vertical-align: middle;\n    }\n\n    .dataframe tbody tr th {\n        vertical-align: top;\n    }\n\n    .dataframe thead th {\n        text-align: right;\n    }\n</style>\n<table border=\"1\" class=\"dataframe\">\n  <thead>\n    <tr style=\"text-align: right;\">\n      <th></th>\n      <th>Average Math Score</th>\n      <th>Average Reading Score</th>\n    </tr>\n    <tr>\n      <th>type</th>\n      <th></th>\n      <th></th>\n    </tr>\n  </thead>\n  <tbody>\n    <tr>\n      <th>Charter</th>\n      <td>83.406183</td>\n      <td>83.902821</td>\n    </tr>\n    <tr>\n      <th>District</th>\n      <td>76.987026</td>\n      <td>80.962485</td>\n    </tr>\n  </tbody>\n</table>\n</div>",
      "text/plain": "          Average Math Score  Average Reading Score\ntype                                               \nCharter            83.406183              83.902821\nDistrict           76.987026              80.962485"
     },
     "execution_count": 102,
     "metadata": {},
     "output_type": "execute_result"
    }
   ],
   "source": [
    "#Create a groupby for school type\n",
    "scores_by_type = school_spending_df.groupby(\"type\")\n",
    "scores_by_type_mean = scores_by_type.mean()\n",
    "scores_type_formatted = scores_by_type_mean[[\"math_score\",\"reading_score\"]]\n",
    "scores_type_formatted = scores_type_formatted.rename(columns = {\"math_score\":\"Average Math Score\",\"reading_score\":\"Average Reading Score\"})\n",
    "scores_type_formatted"
   ]
  },
  {
   "cell_type": "code",
   "execution_count": 132,
   "metadata": {},
   "outputs": [
    {
     "data": {
      "text/html": "<div>\n<style scoped>\n    .dataframe tbody tr th:only-of-type {\n        vertical-align: middle;\n    }\n\n    .dataframe tbody tr th {\n        vertical-align: top;\n    }\n\n    .dataframe thead th {\n        text-align: right;\n    }\n</style>\n<table border=\"1\" class=\"dataframe\">\n  <thead>\n    <tr style=\"text-align: right;\">\n      <th></th>\n      <th>Student ID</th>\n      <th>student_name</th>\n      <th>gender</th>\n      <th>grade</th>\n      <th>school_name</th>\n      <th>reading_score</th>\n      <th>math_score</th>\n      <th>School ID</th>\n      <th>size</th>\n      <th>budget</th>\n      <th>School Size</th>\n    </tr>\n    <tr>\n      <th>type</th>\n      <th></th>\n      <th></th>\n      <th></th>\n      <th></th>\n      <th></th>\n      <th></th>\n      <th></th>\n      <th></th>\n      <th></th>\n      <th></th>\n      <th></th>\n    </tr>\n  </thead>\n  <tbody>\n    <tr>\n      <th>Charter</th>\n      <td>12194</td>\n      <td>12194</td>\n      <td>12194</td>\n      <td>12194</td>\n      <td>12194</td>\n      <td>12194</td>\n      <td>12194</td>\n      <td>12194</td>\n      <td>12194</td>\n      <td>12194</td>\n      <td>12194</td>\n    </tr>\n    <tr>\n      <th>District</th>\n      <td>26976</td>\n      <td>26976</td>\n      <td>26976</td>\n      <td>26976</td>\n      <td>26976</td>\n      <td>26976</td>\n      <td>26976</td>\n      <td>26976</td>\n      <td>26976</td>\n      <td>26976</td>\n      <td>26976</td>\n    </tr>\n  </tbody>\n</table>\n</div>",
      "text/plain": "          Student ID  student_name  gender  grade  school_name  reading_score  \\\ntype                                                                            \nCharter        12194         12194   12194  12194        12194          12194   \nDistrict       26976         26976   26976  26976        26976          26976   \n\n          math_score  School ID   size  budget  School Size  \ntype                                                         \nCharter        12194      12194  12194   12194        12194  \nDistrict       26976      26976  26976   26976        26976  "
     },
     "execution_count": 132,
     "metadata": {},
     "output_type": "execute_result"
    }
   ],
   "source": [
    "#Calculate number of students for each type\n",
    "scores_by_type_count = scores_by_type.count()\n",
    "scores_by_type_count"
   ]
  },
  {
   "cell_type": "code",
   "execution_count": 134,
   "metadata": {},
   "outputs": [],
   "source": [
    "#Save values for total students\n",
    "total_students_charter = scores_by_type_count.iloc[0, 0]\n",
    "total_students_district = scores_by_type_count.iloc[1, 0]"
   ]
  },
  {
   "cell_type": "code",
   "execution_count": 138,
   "metadata": {},
   "outputs": [
    {
     "data": {
      "text/html": "<div>\n<style scoped>\n    .dataframe tbody tr th:only-of-type {\n        vertical-align: middle;\n    }\n\n    .dataframe tbody tr th {\n        vertical-align: top;\n    }\n\n    .dataframe thead th {\n        text-align: right;\n    }\n</style>\n<table border=\"1\" class=\"dataframe\">\n  <thead>\n    <tr style=\"text-align: right;\">\n      <th></th>\n      <th>Student ID</th>\n      <th>student_name</th>\n      <th>gender</th>\n      <th>grade</th>\n      <th>school_name</th>\n      <th>reading_score</th>\n      <th>math_score</th>\n      <th>School ID</th>\n      <th>size</th>\n      <th>budget</th>\n      <th>School Size</th>\n    </tr>\n    <tr>\n      <th>type</th>\n      <th></th>\n      <th></th>\n      <th></th>\n      <th></th>\n      <th></th>\n      <th></th>\n      <th></th>\n      <th></th>\n      <th></th>\n      <th></th>\n      <th></th>\n    </tr>\n  </thead>\n  <tbody>\n    <tr>\n      <th>Charter</th>\n      <td>11426</td>\n      <td>11426</td>\n      <td>11426</td>\n      <td>11426</td>\n      <td>11426</td>\n      <td>11426</td>\n      <td>11426</td>\n      <td>11426</td>\n      <td>11426</td>\n      <td>11426</td>\n      <td>11426</td>\n    </tr>\n    <tr>\n      <th>District</th>\n      <td>17944</td>\n      <td>17944</td>\n      <td>17944</td>\n      <td>17944</td>\n      <td>17944</td>\n      <td>17944</td>\n      <td>17944</td>\n      <td>17944</td>\n      <td>17944</td>\n      <td>17944</td>\n      <td>17944</td>\n    </tr>\n  </tbody>\n</table>\n</div>",
      "text/plain": "          Student ID  student_name  gender  grade  school_name  reading_score  \\\ntype                                                                            \nCharter        11426         11426   11426  11426        11426          11426   \nDistrict       17944         17944   17944  17944        17944          17944   \n\n          math_score  School ID   size  budget  School Size  \ntype                                                         \nCharter        11426      11426  11426   11426        11426  \nDistrict       17944      17944  17944   17944        17944  "
     },
     "execution_count": 138,
     "metadata": {},
     "output_type": "execute_result"
    }
   ],
   "source": [
    "#Calculate number of students passing math by type\n",
    "scores_by_type_mathpass_group = scores_by_size_mathpass.groupby(\"type\")\n",
    "mathpass_by_type = scores_by_type_mathpass_group.count()"
   ]
  },
  {
   "cell_type": "code",
   "execution_count": 137,
   "metadata": {},
   "outputs": [
    {
     "data": {
      "text/plain": "17944"
     },
     "execution_count": 137,
     "metadata": {},
     "output_type": "execute_result"
    }
   ],
   "source": [
    "#Save values for students passing math by school type\n",
    "mathpass_count_charter = mathpass_by_type.iloc[0, 0]\n",
    "mathpass_count_district = mathpass_by_type.iloc[1, 0]"
   ]
  },
  {
   "cell_type": "code",
   "execution_count": 139,
   "metadata": {},
   "outputs": [
    {
     "data": {
      "text/html": "<div>\n<style scoped>\n    .dataframe tbody tr th:only-of-type {\n        vertical-align: middle;\n    }\n\n    .dataframe tbody tr th {\n        vertical-align: top;\n    }\n\n    .dataframe thead th {\n        text-align: right;\n    }\n</style>\n<table border=\"1\" class=\"dataframe\">\n  <thead>\n    <tr style=\"text-align: right;\">\n      <th></th>\n      <th>Average Math Score</th>\n      <th>Average Reading Score</th>\n      <th>% Passing Math</th>\n    </tr>\n    <tr>\n      <th>type</th>\n      <th></th>\n      <th></th>\n      <th></th>\n    </tr>\n  </thead>\n  <tbody>\n    <tr>\n      <th>Charter</th>\n      <td>83.406183</td>\n      <td>83.902821</td>\n      <td>93.701821</td>\n    </tr>\n    <tr>\n      <th>District</th>\n      <td>76.987026</td>\n      <td>80.962485</td>\n      <td>66.518387</td>\n    </tr>\n  </tbody>\n</table>\n</div>",
      "text/plain": "          Average Math Score  Average Reading Score  % Passing Math\ntype                                                               \nCharter            83.406183              83.902821       93.701821\nDistrict           76.987026              80.962485       66.518387"
     },
     "execution_count": 139,
     "metadata": {},
     "output_type": "execute_result"
    }
   ],
   "source": [
    "#Add column for math passing rate\n",
    "mathpass_charter = mathpass_count_charter/total_students_charter*100\n",
    "mathpass_district = mathpass_count_district/total_students_district*100\n",
    "scores_type_formatted[\"% Passing Math\"] = [mathpass_charter, mathpass_district]\n",
    "scores_type_formatted"
   ]
  },
  {
   "cell_type": "code",
   "execution_count": 142,
   "metadata": {},
   "outputs": [
    {
     "data": {
      "text/html": "<div>\n<style scoped>\n    .dataframe tbody tr th:only-of-type {\n        vertical-align: middle;\n    }\n\n    .dataframe tbody tr th {\n        vertical-align: top;\n    }\n\n    .dataframe thead th {\n        text-align: right;\n    }\n</style>\n<table border=\"1\" class=\"dataframe\">\n  <thead>\n    <tr style=\"text-align: right;\">\n      <th></th>\n      <th>Student ID</th>\n      <th>student_name</th>\n      <th>gender</th>\n      <th>grade</th>\n      <th>school_name</th>\n      <th>reading_score</th>\n      <th>math_score</th>\n      <th>School ID</th>\n      <th>size</th>\n      <th>budget</th>\n      <th>School Size</th>\n    </tr>\n    <tr>\n      <th>type</th>\n      <th></th>\n      <th></th>\n      <th></th>\n      <th></th>\n      <th></th>\n      <th></th>\n      <th></th>\n      <th></th>\n      <th></th>\n      <th></th>\n      <th></th>\n    </tr>\n  </thead>\n  <tbody>\n    <tr>\n      <th>Charter</th>\n      <td>11785</td>\n      <td>11785</td>\n      <td>11785</td>\n      <td>11785</td>\n      <td>11785</td>\n      <td>11785</td>\n      <td>11785</td>\n      <td>11785</td>\n      <td>11785</td>\n      <td>11785</td>\n      <td>11785</td>\n    </tr>\n    <tr>\n      <th>District</th>\n      <td>21825</td>\n      <td>21825</td>\n      <td>21825</td>\n      <td>21825</td>\n      <td>21825</td>\n      <td>21825</td>\n      <td>21825</td>\n      <td>21825</td>\n      <td>21825</td>\n      <td>21825</td>\n      <td>21825</td>\n    </tr>\n  </tbody>\n</table>\n</div>",
      "text/plain": "          Student ID  student_name  gender  grade  school_name  reading_score  \\\ntype                                                                            \nCharter        11785         11785   11785  11785        11785          11785   \nDistrict       21825         21825   21825  21825        21825          21825   \n\n          math_score  School ID   size  budget  School Size  \ntype                                                         \nCharter        11785      11785  11785   11785        11785  \nDistrict       21825      21825  21825   21825        21825  "
     },
     "execution_count": 142,
     "metadata": {},
     "output_type": "execute_result"
    }
   ],
   "source": [
    "#Calculate number of students passing reading by type\n",
    "scores_by_type_reading_group = scores_by_size_readingpass.groupby(\"type\")\n",
    "readingpass_by_type = scores_by_type_reading_group.count()\n",
    "readingpass_by_type"
   ]
  },
  {
   "cell_type": "code",
   "execution_count": 143,
   "metadata": {},
   "outputs": [],
   "source": [
    "#Save values for students passing reading by school type\n",
    "readingpass_count_charter = readingpass_by_type.iloc[0, 0]\n",
    "readingpass_count_district = readingpass_by_type.iloc[1, 0]"
   ]
  },
  {
   "cell_type": "code",
   "execution_count": 144,
   "metadata": {},
   "outputs": [
    {
     "data": {
      "text/html": "<div>\n<style scoped>\n    .dataframe tbody tr th:only-of-type {\n        vertical-align: middle;\n    }\n\n    .dataframe tbody tr th {\n        vertical-align: top;\n    }\n\n    .dataframe thead th {\n        text-align: right;\n    }\n</style>\n<table border=\"1\" class=\"dataframe\">\n  <thead>\n    <tr style=\"text-align: right;\">\n      <th></th>\n      <th>Average Math Score</th>\n      <th>Average Reading Score</th>\n      <th>% Passing Math</th>\n      <th>% Passing Reading</th>\n    </tr>\n    <tr>\n      <th>type</th>\n      <th></th>\n      <th></th>\n      <th></th>\n      <th></th>\n    </tr>\n  </thead>\n  <tbody>\n    <tr>\n      <th>Charter</th>\n      <td>83.406183</td>\n      <td>83.902821</td>\n      <td>93.701821</td>\n      <td>96.645891</td>\n    </tr>\n    <tr>\n      <th>District</th>\n      <td>76.987026</td>\n      <td>80.962485</td>\n      <td>66.518387</td>\n      <td>80.905249</td>\n    </tr>\n  </tbody>\n</table>\n</div>",
      "text/plain": "          Average Math Score  Average Reading Score  % Passing Math  \\\ntype                                                                  \nCharter            83.406183              83.902821       93.701821   \nDistrict           76.987026              80.962485       66.518387   \n\n          % Passing Reading  \ntype                         \nCharter           96.645891  \nDistrict          80.905249  "
     },
     "execution_count": 144,
     "metadata": {},
     "output_type": "execute_result"
    }
   ],
   "source": [
    "#Add column for reading passing rate\n",
    "readingpass_charter = readingpass_count_charter/total_students_charter*100\n",
    "readingpass_district = readingpass_count_district/total_students_district*100\n",
    "scores_type_formatted[\"% Passing Reading\"] = [readingpass_charter, readingpass_district]\n",
    "scores_type_formatted"
   ]
  },
  {
   "cell_type": "code",
   "execution_count": 145,
   "metadata": {},
   "outputs": [
    {
     "data": {
      "text/html": "<div>\n<style scoped>\n    .dataframe tbody tr th:only-of-type {\n        vertical-align: middle;\n    }\n\n    .dataframe tbody tr th {\n        vertical-align: top;\n    }\n\n    .dataframe thead th {\n        text-align: right;\n    }\n</style>\n<table border=\"1\" class=\"dataframe\">\n  <thead>\n    <tr style=\"text-align: right;\">\n      <th></th>\n      <th>Average Math Score</th>\n      <th>Average Reading Score</th>\n      <th>% Passing Math</th>\n      <th>% Passing Reading</th>\n      <th>% Overall Passing Rate</th>\n    </tr>\n    <tr>\n      <th>type</th>\n      <th></th>\n      <th></th>\n      <th></th>\n      <th></th>\n      <th></th>\n    </tr>\n  </thead>\n  <tbody>\n    <tr>\n      <th>Charter</th>\n      <td>83.406183</td>\n      <td>83.902821</td>\n      <td>93.701821</td>\n      <td>96.645891</td>\n      <td>95.173856</td>\n    </tr>\n    <tr>\n      <th>District</th>\n      <td>76.987026</td>\n      <td>80.962485</td>\n      <td>66.518387</td>\n      <td>80.905249</td>\n      <td>73.711818</td>\n    </tr>\n  </tbody>\n</table>\n</div>",
      "text/plain": "          Average Math Score  Average Reading Score  % Passing Math  \\\ntype                                                                  \nCharter            83.406183              83.902821       93.701821   \nDistrict           76.987026              80.962485       66.518387   \n\n          % Passing Reading  % Overall Passing Rate  \ntype                                                 \nCharter           96.645891               95.173856  \nDistrict          80.905249               73.711818  "
     },
     "execution_count": 145,
     "metadata": {},
     "output_type": "execute_result"
    }
   ],
   "source": [
    "#Add column for overall pass rate by type\n",
    "scores_type_formatted[\"% Overall Passing Rate\"] = (scores_type_formatted[\"% Passing Math\"] + scores_type_formatted[\"% Passing Reading\"])/2\n",
    "scores_type_formatted"
   ]
  },
  {
   "cell_type": "code",
   "execution_count": null,
   "metadata": {},
   "outputs": [],
   "source": []
  }
 ],
 "metadata": {
  "anaconda-cloud": {},
  "kernel_info": {
   "name": "python3"
  },
  "kernelspec": {
   "display_name": "Python 3.7.6 64-bit ('PythonData': conda)",
   "language": "python",
   "name": "python37664bitpythondataconda7b76faf93e6a485bb209245349a7d6ad"
  },
  "language_info": {
   "codemirror_mode": {
    "name": "ipython",
    "version": 3
   },
   "file_extension": ".py",
   "mimetype": "text/x-python",
   "name": "python",
   "nbconvert_exporter": "python",
   "pygments_lexer": "ipython3",
   "version": "3.7.4-final"
  },
  "latex_envs": {
   "LaTeX_envs_menu_present": true,
   "autoclose": false,
   "autocomplete": true,
   "bibliofile": "biblio.bib",
   "cite_by": "apalike",
   "current_citInitial": 1,
   "eqLabelWithNumbers": true,
   "eqNumInitial": 1,
   "hotkeys": {
    "equation": "Ctrl-E",
    "itemize": "Ctrl-I"
   },
   "labels_anchors": false,
   "latex_user_defs": false,
   "report_style_numbering": false,
   "user_envs_cfg": false
  },
  "nteract": {
   "version": "0.8.4"
  }
 },
 "nbformat": 4,
 "nbformat_minor": 1
}